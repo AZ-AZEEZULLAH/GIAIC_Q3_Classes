{
  "nbformat": 4,
  "nbformat_minor": 0,
  "metadata": {
    "colab": {
      "provenance": [],
      "authorship_tag": "ABX9TyNapa+lrsbYnzFk95yxijRU",
      "include_colab_link": true
    },
    "kernelspec": {
      "name": "python3",
      "display_name": "Python 3"
    },
    "language_info": {
      "name": "python"
    }
  },
  "cells": [
    {
      "cell_type": "markdown",
      "metadata": {
        "id": "view-in-github",
        "colab_type": "text"
      },
      "source": [
        "<a href=\"https://colab.research.google.com/github/AZ-AZEEZULLAH/GIAIC_Q3_Classes/blob/main/class_08.ipynb\" target=\"_parent\"><img src=\"https://colab.research.google.com/assets/colab-badge.svg\" alt=\"Open In Colab\"/></a>"
      ]
    },
    {
      "cell_type": "markdown",
      "source": [
        "# Abstraction\n",
        "Abstraction means hiding complex details and showing only the essential features.\n"
      ],
      "metadata": {
        "id": "5x3SLPUHyjHk"
      }
    },
    {
      "cell_type": "code",
      "source": [
        "from abc import ABC, abstractmethod\n",
        "\n",
        "# Abstract base class\n",
        "class Person(ABC):\n",
        "    def __init__(self, name, email):\n",
        "        self.name = name\n",
        "        self.email = email\n",
        "\n",
        "    # Abstract method that must be implemented in subclasses\n",
        "    @abstractmethod\n",
        "    def calculate_fine(self, days):\n",
        "        pass\n",
        "\n",
        "# Subclass representing a library member\n",
        "class Member(Person):\n",
        "    def __init__(self, name, email, member_id):\n",
        "        super().__init__(name, email)\n",
        "        self.member_id = member_id\n",
        "\n",
        "    # Implementing the abstract method\n",
        "    def calculate_fine(self, days):\n",
        "        return days * 2\n",
        "\n",
        "# Creating an instance of Member\n",
        "member = Member(\"Ahmed\", \"ahmed@gmail.com\", \"member--001\")\n",
        "print(\"Member ID:\", member.member_id)\n",
        "print(\"Fine on member:\", member.calculate_fine(10))\n",
        "\n",
        "# Subclass representing a librarian\n",
        "class Librarian(Person):\n",
        "    def __init__(self, name, email, salary):\n",
        "        super().__init__(name, email)\n",
        "        self.salary = salary\n",
        "\n",
        "    def get_info(self):\n",
        "        return [self.name, self.salary]\n",
        "\n",
        "    # Implementing the abstract method\n",
        "    def calculate_fine(self, days):\n",
        "        return self.salary - days  # Example logic\n",
        "\n",
        "# Creating an instance of Librarian\n",
        "librarian = Librarian(\"Smith\", \"smith@gmail.com\", 2999)\n",
        "print(\"Fine on librarian:\", librarian.calculate_fine(5))\n"
      ],
      "metadata": {
        "colab": {
          "base_uri": "https://localhost:8080/"
        },
        "id": "h047IlHfzOWN",
        "outputId": "871c8f1a-bb29-4d08-c73d-e6fdee96b933"
      },
      "execution_count": 2,
      "outputs": [
        {
          "output_type": "stream",
          "name": "stdout",
          "text": [
            "Member ID: member--001\n",
            "Fine on member: 20\n",
            "Fine on librarian: 2994\n"
          ]
        }
      ]
    },
    {
      "cell_type": "markdown",
      "source": [
        "# Encapsulation :\n",
        "Encapsulation means binding data and functions together within a class. It hides the internal state of the object from the outside."
      ],
      "metadata": {
        "id": "a2TV3zz7zZfK"
      }
    },
    {
      "cell_type": "code",
      "source": [
        "class Person():\n",
        "    def __init__(self,name,email):\n",
        "        self.name = name\n",
        "        self.email = email\n",
        "\n",
        "class Library():\n",
        "\n",
        "    # constructor\n",
        "\n",
        "    def __init__(self, name , location):\n",
        "\n",
        "        # Class attributes / class variable / paremeter\n",
        "\n",
        "        self . lib_name = name\n",
        "        self. lib_location = location\n",
        "\n",
        "        # Declaring a private attribute\n",
        "\n",
        "        self._expenses = {\"salary Exp \" : 1234 , \"KE_BILL\" : 14000}\n",
        "\n",
        "        # getter function\n",
        "\n",
        "\n",
        "    def get_expensive(self):\n",
        "        return self._expenses\n",
        "\n",
        "\n",
        "\n",
        "    # Setter Function\n",
        "\n",
        "    def update_expensive(self, update_exp):\n",
        "       # self._expenses = {\"salaryExp\": 12345 ,\"KE_BILL\":12345, \"furniture\":50987}\n",
        "\n",
        "       self. _expenses = update_exp\n",
        "       return self._expenses\n",
        "\n",
        "\n",
        "    # class methods / function\n",
        "\n",
        "\n",
        "    def add_book(self, new_book_name):\n",
        "        return self.books.append(new_book_name)\n",
        "\n",
        "    def remove_book(self, remove_book):\n",
        "        return self.remove(remove_book)\n",
        "\n",
        "\n",
        "    def get_get_book(self):\n",
        "        return self.books\n",
        "\n",
        "\n",
        "    # Making an object / Creating Instance of a class\n",
        "\n",
        "\n",
        "my_lib = Library(\"The Library\", \"Karachi\")\n",
        "\n",
        "print(my_lib.get_expensive())\n",
        "\n",
        "print(my_lib.update_expensive({\"salary_exp\":1234, \"KE_Bill\": 5600, \"furniture\":50098}))\n",
        "\n",
        "\n"
      ],
      "metadata": {
        "colab": {
          "base_uri": "https://localhost:8080/"
        },
        "id": "mor2RV7Lz_sE",
        "outputId": "f6dc2275-ed9f-426e-cf75-6927f1352315"
      },
      "execution_count": 3,
      "outputs": [
        {
          "output_type": "stream",
          "name": "stdout",
          "text": [
            "{'salary Exp ': 1234, 'KE_BILL': 14000}\n",
            "{'salary_exp': 1234, 'KE_Bill': 5600, 'furniture': 50098}\n"
          ]
        }
      ]
    },
    {
      "cell_type": "markdown",
      "source": [
        "#  Inheritance :\n",
        "Inheritance allows a class (child) to inherit properties and methods from another class (parent)."
      ],
      "metadata": {
        "id": "UyNZoHti0Idz"
      }
    },
    {
      "cell_type": "code",
      "source": [
        "# Base class: Person\n",
        "class Person():\n",
        "    def __init__(self, name, email):\n",
        "        self.name = name\n",
        "        self.email = email\n",
        "\n",
        "    def walk(self):\n",
        "        print('Walking')\n",
        "\n",
        "# Subclass: Member inherits from Person\n",
        "class Member(Person):\n",
        "    def __init__(self, name, email, mem_id):\n",
        "        super().__init__(name, email)  # Calls Person constructor\n",
        "        self.mem_id = mem_id\n",
        "\n",
        "# Create a Member instance\n",
        "member = Member('Ali', 'ali@gmail.com', 'mem-001')\n",
        "print(member.mem_id)      # Output: mem-001\n",
        "print(member.walk())      # Output: Walking\n",
        "\n",
        "# Subclass: Librarian inherits from Person\n",
        "class Librarian(Person):\n",
        "    def __init__(self, name, email, salary):\n",
        "        super().__init__(name, email)\n",
        "        self.salary = salary\n",
        "\n",
        "# Create a Librarian instance\n",
        "libraian = Librarian('Smith', 'smith@gmail.com', 2393)\n",
        "print(libraian.name)      # Output: Smith\n",
        "\n",
        "# Library class to manage books\n",
        "class Library():\n",
        "    def __init__(self, name, location):\n",
        "        self.books = []               # List to store book names\n",
        "        self.lib_name = name\n",
        "        self.lib_location = location\n",
        "\n",
        "    def add_book(self, new_book_name):\n",
        "        return self.books.append(new_book_name)\n",
        "\n",
        "    def remove_book(self, remove_book):\n",
        "        return self.books.remove(remove_book)\n",
        "\n",
        "    def get_book(self):\n",
        "        return self.books\n",
        "\n",
        "# Book class to define book details\n",
        "class Book():\n",
        "    def __init__(self, name, author, availability):\n",
        "        self.book_name = name\n",
        "        self.author_name = author\n",
        "        self.availability = availability\n",
        "\n",
        "    def borrow(self):\n",
        "        self.availability  # (method does nothing yet)\n",
        "\n",
        "# Creating book instances\n",
        "book1 = Book('Poetry', 'Allama Iqbal', True)\n",
        "print(book1.author_name)  # Output: Allama Iqbal\n",
        "\n",
        "book2 = Book('Comedy', 'Umer Sharif', True)\n",
        "book3 = Book('Tragedy', 'Ahemd', True)\n",
        "\n",
        "# Create a Library instance and add books\n",
        "mylib2 = Library('The library', 'Karachi')\n",
        "print(mylib2.add_book(book2.book_name))  # Adds Comedy\n",
        "print(mylib2.add_book(book3.book_name))  # Adds Tragedy\n",
        "\n",
        "print(mylib2.get_book())  # Output: ['Comedy', 'Tragedy']\n",
        "\n",
        "# Remove a book and display updated list\n",
        "print(mylib2.remove_book('Tragedy'))     # Removes Tragedy\n",
        "print(mylib2.get_book())                 # Output: ['Comedy']\n"
      ],
      "metadata": {
        "colab": {
          "base_uri": "https://localhost:8080/"
        },
        "id": "dIXSoN8R0U8b",
        "outputId": "59317e3f-0934-4bcd-8637-ab3b263cb6d3"
      },
      "execution_count": 4,
      "outputs": [
        {
          "output_type": "stream",
          "name": "stdout",
          "text": [
            "mem-001\n",
            "Walking\n",
            "None\n",
            "Smith\n",
            "Allama Iqbal\n",
            "None\n",
            "None\n",
            "['Comedy', 'Tragedy']\n",
            "None\n",
            "['Comedy']\n"
          ]
        }
      ]
    },
    {
      "cell_type": "markdown",
      "source": [
        "#  Polymorphism :\n",
        "Polymorphism means same function or method behaving differently depending on the object."
      ],
      "metadata": {
        "id": "E39tbsHt0kcL"
      }
    },
    {
      "cell_type": "code",
      "source": [
        "# Base class or parent class\n",
        "class Person():\n",
        "    def __init__(self, name, email):\n",
        "        # Instance variables\n",
        "        self.name = name\n",
        "        self.email = email\n",
        "\n",
        "    # A method that can be overridden by child classes\n",
        "    def get_info(self):\n",
        "        return f'{self.name}'  # Returns just the name as a string\n",
        "\n",
        "\n",
        "# Child class inheriting from Person\n",
        "class Member(Person):\n",
        "    def __init__(self, name, email, mem_id):\n",
        "        # Calling the constructor of the parent class using super()\n",
        "        super().__init__(name, email)\n",
        "        self.mem_id = mem_id  # New attribute specific to Member\n",
        "\n",
        "    # Overriding the get_info method (Polymorphism)\n",
        "    def get_info(self):\n",
        "        # Returns member-specific information as a dictionary\n",
        "        return {'name': self.name, 'mem_id': self.mem_id}\n",
        "\n",
        "\n",
        "# Creating a Member object\n",
        "member = Member('Ali', 'ali@gmail.com', 'mem-001')\n",
        "\n",
        "# Accessing the mem_id attribute\n",
        "print(member.mem_id)  # Output: mem-001\n",
        "\n",
        "# Accessing overridden get_info method\n",
        "print(member.get_info())  # Output: {'name': 'Ali', 'mem_id': 'mem-001'}\n",
        "\n",
        "\n",
        "# Another child class inheriting from Person\n",
        "class Librarian(Person):\n",
        "    def __init__(self, name, email, salary):\n",
        "        # Call the parent class constructor\n",
        "        super().__init__(name, email)\n",
        "        self.salary = salary  # New attribute specific to Librarian\n",
        "\n",
        "    # Overriding the get_info method (Polymorphism)\n",
        "    def get_info(self):\n",
        "        # Returns librarian-specific information as a list\n",
        "        return [self.name, self.salary]\n",
        "\n",
        "\n",
        "# Creating a Librarian object\n",
        "libraian = Librarian('Smith', 'smith@gmail.com', 2393)\n",
        "\n",
        "# Accessing the name attribute (inherited from Person)\n",
        "print(libraian.name)  # Output: Smith\n"
      ],
      "metadata": {
        "colab": {
          "base_uri": "https://localhost:8080/"
        },
        "id": "5bX_yBUx0rIM",
        "outputId": "de602b4d-e3cb-4464-af5e-0de66c6d2740"
      },
      "execution_count": 5,
      "outputs": [
        {
          "output_type": "stream",
          "name": "stdout",
          "text": [
            "mem-001\n",
            "{'name': 'Ali', 'mem_id': 'mem-001'}\n",
            "Smith\n"
          ]
        }
      ]
    },
    {
      "cell_type": "markdown",
      "source": [
        "This Python program demonstrates OOP pillars: abstraction, inheritance, encapsulation, and polymorphism through a simple library management system."
      ],
      "metadata": {
        "id": "Wrqyq0wk1ECT"
      }
    },
    {
      "cell_type": "code",
      "source": [
        "from abc import ABC, abstractmethod # type: ignore\n",
        "\n",
        "# Abstract base class - Person\n",
        "class Person(ABC):\n",
        "    def __init__(self, name, email):\n",
        "        self.name = name\n",
        "        self.email = email\n",
        "\n",
        "    # Abstract method must be implemented by subclasses\n",
        "    @abstractmethod\n",
        "    def calculate_fine(self, days):\n",
        "        pass\n",
        "\n",
        "    # A general method that can be overridden in subclasses\n",
        "    def get_info(self):\n",
        "        return f'{self.name}'\n",
        "\n",
        "# ------------------- Inheritance --------------------\n",
        "\n",
        "class Member(Person):  # Member inherits from Person\n",
        "    def __init__(self, name, email, member_id):\n",
        "        super().__init__(name, email)\n",
        "        self.member_id = member_id\n",
        "\n",
        "    # Polymorphism: Overriding get_info\n",
        "    def get_info(self):\n",
        "        return {\"name\": self.name, \"member_id\": self.member_id}\n",
        "\n",
        "    # Implementing the abstract method\n",
        "    def calculate_fine(self, days):\n",
        "        return days * 2  # Simple fine calculation\n",
        "\n",
        "\n",
        "class Librarian(Person):  # Librarian inherits from Person\n",
        "    def __init__(self, name, email, salary):\n",
        "        super().__init__(name, email)\n",
        "        self.salary = salary\n",
        "\n",
        "    # Polymorphism: Overriding get_info\n",
        "    def get_info(self):\n",
        "        return [self.name, self.salary]\n",
        "\n",
        "    # Implementing the abstract method\n",
        "    def calculate_fine(self, days):\n",
        "        return self.salary - days  # Not realistic, just for example\n",
        "\n",
        "# ------------------- Encapsulation --------------------\n",
        "\n",
        "class Library:\n",
        "    def __init__(self, name, location):\n",
        "        self.lib_name = name\n",
        "        self.lib_location = location\n",
        "        self.__expenses = {\"salary_exp\": 1232, \"KE_BILL\": 14500}  # Private attribute\n",
        "\n",
        "    # Getter method for private expenses\n",
        "    def get_expenses(self):\n",
        "        return self.__expenses\n",
        "\n",
        "    # Setter method to update expenses\n",
        "    def update_expenses(self, update_exp):\n",
        "        self.__expenses = update_exp\n",
        "        return self.__expenses\n",
        "\n",
        "    # Adding a book\n",
        "    def add_book(self, new_book_name):\n",
        "        return f'{new_book_name} has been added to the library'\n",
        "\n",
        "    # Removing a book\n",
        "    def remove_book(self, remove_book):\n",
        "        return f'{remove_book} has been removed from the library'\n",
        "\n",
        "    # Returning a list of books\n",
        "    def get_books(self):\n",
        "        return [\"Book1\", \"Book2\", \"Book3\"]\n",
        "\n",
        "# ------------------- Testing All Concepts --------------------\n",
        "\n",
        "# Creating instances of Member and Librarian\n",
        "member = Member(\"Ahmed\", \"ahmed@gmail.com\", \"member--001\")\n",
        "librarian = Librarian(\"Smith\", \"smith@gmail.com\", 2393)\n",
        "\n",
        "# Polymorphism: get_info() from both classes\n",
        "print(\"Member Info:\", member.get_info())       # {'name': 'Ahmed', 'member_id': 'member--001'}\n",
        "print(\"Librarian Info:\", librarian.get_info()) # ['Smith', 2393]\n",
        "\n",
        "# Encapsulation: create a library object\n",
        "my_lib = Library(\"The Library\", \"Karachi\")\n",
        "\n",
        "# Use the object's methods (not class methods)\n",
        "print(\"Library Expenses:\", my_lib.get_expenses())  # Getter\n",
        "print(\"Updated Expenses:\", my_lib.update_expenses({\"salary_exp\": 1500, \"KE_BILL\": 1300}))  # Setter\n",
        "\n",
        "# Abstraction: calling implemented abstract methods\n",
        "print(f\"Fine for Member (Ahmed): {member.calculate_fine(5)}\")     # 10\n",
        "print(f\"Fine for Librarian (Smith): {librarian.calculate_fine(5)}\")  # 2388\n",
        "\n",
        "# Library actions\n",
        "print(my_lib.add_book(\"New Book\"))       # Adding a book\n",
        "print(my_lib.remove_book(\"Book1\"))       # Removing a book\n",
        "print(\"Books in Library:\", my_lib.get_books())  # Getting list of books\n"
      ],
      "metadata": {
        "colab": {
          "base_uri": "https://localhost:8080/"
        },
        "id": "5OhXev-f1Gkj",
        "outputId": "1f3a881c-d9b2-4ff4-d937-206a56bc2031"
      },
      "execution_count": 6,
      "outputs": [
        {
          "output_type": "stream",
          "name": "stdout",
          "text": [
            "Member Info: {'name': 'Ahmed', 'member_id': 'member--001'}\n",
            "Librarian Info: ['Smith', 2393]\n",
            "Library Expenses: {'salary_exp': 1232, 'KE_BILL': 14500}\n",
            "Updated Expenses: {'salary_exp': 1500, 'KE_BILL': 1300}\n",
            "Fine for Member (Ahmed): 10\n",
            "Fine for Librarian (Smith): 2388\n",
            "New Book has been added to the library\n",
            "Book1 has been removed from the library\n",
            "Books in Library: ['Book1', 'Book2', 'Book3']\n"
          ]
        }
      ]
    }
  ]
}