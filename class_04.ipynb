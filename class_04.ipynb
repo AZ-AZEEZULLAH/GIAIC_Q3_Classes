{
  "nbformat": 4,
  "nbformat_minor": 0,
  "metadata": {
    "colab": {
      "provenance": [],
      "authorship_tag": "ABX9TyPzB3Mcuie9bVncFixMWr3z",
      "include_colab_link": true
    },
    "kernelspec": {
      "name": "python3",
      "display_name": "Python 3"
    },
    "language_info": {
      "name": "python"
    }
  },
  "cells": [
    {
      "cell_type": "markdown",
      "metadata": {
        "id": "view-in-github",
        "colab_type": "text"
      },
      "source": [
        "<a href=\"https://colab.research.google.com/github/AZ-AZEEZULLAH/GIAIC_Q3_Classes/blob/main/class_04.ipynb\" target=\"_parent\"><img src=\"https://colab.research.google.com/assets/colab-badge.svg\" alt=\"Open In Colab\"/></a>"
      ]
    },
    {
      "cell_type": "code",
      "source": [
        "# Define a function named `login` that takes one required positional argument (`rollnumber`)\n",
        "# and three required keyword-only arguments (`email`, `password`, and `dob`)\n",
        "def login(rollnumber, *, email, password, dob):\n",
        "    # Inside the function, create a dictionary `user_object` to store the provided user data\n",
        "    user_object = {\n",
        "        \"rollnumber\": rollnumber,  # User's roll number\n",
        "        \"email\": email,            # User's email\n",
        "        \"password\": password,      # User's password (should be kept secure in real applications)\n",
        "        \"dob\": dob                 # User's date of birth\n",
        "    }\n",
        "    # Print the created user object dictionary\n",
        "    print(user_object)\n",
        "\n",
        "# Call the `login` function with arguments in the required format\n",
        "login(\"GIAIC34433\", email=\"azeez@gmail.com\", password=11122, dob='2-3-05')\n",
        "# Output:\n",
        "# {'rollnumber': 'GIAIC34433', 'email': 'azeez@gmail.com', 'password': 11122, 'dob': '2-3-05'}\n",
        "\n",
        "# Call the `login` function again with a different set of arguments\n",
        "login(\"GIAIC224455\", password=\"78865\", dob=\"31-3-15\", email=\"abc@gmail.com\")\n",
        "# Output:\n",
        "# {'rollnumber': 'GIAIC224455', 'email': 'abc@gmail.com', 'password': '78865', 'dob': '31-3-15'}\n"
      ],
      "metadata": {
        "colab": {
          "base_uri": "https://localhost:8080/"
        },
        "id": "d__zt1XyO3bY",
        "outputId": "2b2510a6-acc2-4e40-91f8-310ea32587fd"
      },
      "execution_count": 4,
      "outputs": [
        {
          "output_type": "stream",
          "name": "stdout",
          "text": [
            "{'rollnumber': 'GIAIC34433', 'email': 'azeez@gmail.com', 'password': 11122, 'dob': '2-3-05'}\n",
            "{'rollnumber': 'GIAIC224455', 'email': 'abc@gmail.com', 'password': '78865', 'dob': '31-3-15'}\n"
          ]
        }
      ]
    },
    {
      "cell_type": "code",
      "source": [
        "def students_register(name, rollnumber, contact, *course):\n",
        "    student_data = {\n",
        "        \"name\": name,\n",
        "        \"rollnumber\": rollnumber,\n",
        "        \"course\": course,\n",
        "        \"contact\": contact\n",
        "    }\n",
        "    print(\"💔 Students Register\")\n",
        "    print(student_data)\n",
        "\n",
        "students_register(\"Azeezullah\", \"GIAIC2025 & PIAIC2025\", \"0304-3566873\", \"Python Programming\")\n",
        "print('©Azeezullah')\n"
      ],
      "metadata": {
        "colab": {
          "base_uri": "https://localhost:8080/"
        },
        "id": "6dw8_07eZEy4",
        "outputId": "971cb7db-6973-4fd7-d6f5-05be1127f2c8"
      },
      "execution_count": 20,
      "outputs": [
        {
          "output_type": "stream",
          "name": "stdout",
          "text": [
            "💔 Students Register\n",
            "{'name': 'Azeezullah', 'rollnumber': 'GIAIC2025 & PIAIC2025', 'course': ('Python Programming',), 'contact': '0304-3566873'}\n",
            "©Azeezullah\n"
          ]
        }
      ]
    },
    {
      "cell_type": "code",
      "source": [
        "# Define the function to register a student\n",
        "def register_student(name, rollnumber, *, course, contact):\n",
        "    # Create a dictionary to store student details\n",
        "    student_data = {\n",
        "        \"name\": name,           # Student's full name\n",
        "        \"rollnumber\": rollnumber,  # Unique roll number\n",
        "        \"course\": course,       # Course enrolled in\n",
        "        \"contact\": contact      # Contact number (should be a string to include leading 0s if any)\n",
        "    }\n",
        "    # Print the student data\n",
        "    print(\"✅ Student Registered:\")\n",
        "    print(student_data)\n",
        "\n",
        "# Call the function with proper arguments\n",
        "register_student(\"Jawad Ali\", \"GIAIC2025\", course=\"Python Programming\", contact=\"0307-0083733\")\n",
        "register_student(\"Satraj \",\"GIAIC2025\",course=\"Python Programming\", contact= \"0300-3688660\")\n",
        "register_student(\"Sheeraz Ali\", \"GIAIC2025\", course=\"Python Programming\",contact=\"0308-3769685\")\n",
        "register_student(\"Sajjad Ali\", \"GIAIC2025\", course=\"Python Programming\", contact=\"0308-8260904\")\n"
      ],
      "metadata": {
        "colab": {
          "base_uri": "https://localhost:8080/"
        },
        "id": "bErs8D3cbsMM",
        "outputId": "e9560847-5f0f-47c2-9ddc-e6acbd27424c"
      },
      "execution_count": 21,
      "outputs": [
        {
          "output_type": "stream",
          "name": "stdout",
          "text": [
            "✅ Student Registered:\n",
            "{'name': 'Jawad Ali', 'rollnumber': 'GIAIC2025', 'course': 'Python Programming', 'contact': '0307-0083733'}\n",
            "✅ Student Registered:\n",
            "{'name': 'Satraj ', 'rollnumber': 'GIAIC2025', 'course': 'Python Programming', 'contact': '0300-3688660'}\n",
            "✅ Student Registered:\n",
            "{'name': 'Sheeraz Ali', 'rollnumber': 'GIAIC2025', 'course': 'Python Programming', 'contact': '0308-3769685'}\n",
            "✅ Student Registered:\n",
            "{'name': 'Sajjad Ali', 'rollnumber': 'GIAIC2025', 'course': 'Python Programming', 'contact': '0308-8260904'}\n"
          ]
        }
      ]
    },
    {
      "cell_type": "code",
      "source": [
        "def Binance(**kuch_bhi):\n",
        "  print(kuch_bhi)\n",
        "\n",
        "Binance(bitcon=3223, eth=887)\n",
        ""
      ],
      "metadata": {
        "colab": {
          "base_uri": "https://localhost:8080/"
        },
        "id": "3TcFanuDby1H",
        "outputId": "843b9604-6e80-416f-ea52-f12c312822a0"
      },
      "execution_count": 27,
      "outputs": [
        {
          "output_type": "stream",
          "name": "stdout",
          "text": [
            "{'bitcon': 3223, 'eth': 887}\n"
          ]
        }
      ]
    },
    {
      "cell_type": "code",
      "source": [
        "# Define a function named Rate_Currency that accepts any number of keyword arguments using **name\n",
        "def Rate_Currency(**name):\n",
        "\n",
        "  # Print the dictionary of keyword arguments received\n",
        "  print(name)\n",
        "\n",
        "  # Store and print the type of 'name' which will always be a dictionary when using **\n",
        "  typy = type(name)\n",
        "  print(typy)\n",
        "\n",
        "# Call the function with one keyword argument: dollar=275\n",
        "Rate_Currency(dollar=275)\n"
      ],
      "metadata": {
        "colab": {
          "base_uri": "https://localhost:8080/"
        },
        "id": "nONH6107e7EH",
        "outputId": "50c30140-0500-4bc6-9bab-486beab93c6e"
      },
      "execution_count": 35,
      "outputs": [
        {
          "output_type": "stream",
          "name": "stdout",
          "text": [
            "{'dollar': 275}\n",
            "<class 'dict'>\n"
          ]
        }
      ]
    },
    {
      "cell_type": "code",
      "source": [
        "def wallet(**payment):\n",
        "\n",
        "  print(payment)\n",
        "wallet(gasbil=1000,electricity=2000)\n",
        "\n",
        "\n"
      ],
      "metadata": {
        "colab": {
          "base_uri": "https://localhost:8080/"
        },
        "id": "F1xBK51Eggnt",
        "outputId": "4bcc48fa-b271-42c7-9f1c-45dc929a9853"
      },
      "execution_count": 54,
      "outputs": [
        {
          "output_type": "stream",
          "name": "stdout",
          "text": [
            "{'gasbil': 1000, 'electricity': 2000}\n"
          ]
        }
      ]
    },
    {
      "cell_type": "code",
      "source": [
        "print(type(wallet))"
      ],
      "metadata": {
        "colab": {
          "base_uri": "https://localhost:8080/"
        },
        "id": "4J6SwA0Yh7bL",
        "outputId": "662dbe3d-3c07-494e-8c79-2ffc43b7b831"
      },
      "execution_count": 49,
      "outputs": [
        {
          "output_type": "stream",
          "name": "stdout",
          "text": [
            "<class 'function'>\n"
          ]
        }
      ]
    },
    {
      "cell_type": "code",
      "source": [
        "def wallet(**payment):\n",
        "    total = sum(payment.values())\n",
        "    print(f\"Total expenses: Rs {total}\")\n",
        "\n",
        "wallet(gasbil=1000, electricity=2000)\n"
      ],
      "metadata": {
        "colab": {
          "base_uri": "https://localhost:8080/"
        },
        "id": "mt8eUc4rjlWT",
        "outputId": "191039ab-c510-4b85-ce2f-f986619a16a3"
      },
      "execution_count": 55,
      "outputs": [
        {
          "output_type": "stream",
          "name": "stdout",
          "text": [
            "Total expenses: Rs 3000\n"
          ]
        }
      ]
    },
    {
      "cell_type": "code",
      "source": [
        "# Define a function named wallet that accepts any number of keyword arguments (**payment)\n",
        "def wallet(**payment):\n",
        "    # Calculate the sum of all the values provided in the keyword arguments\n",
        "    total = sum(payment.values())\n",
        "\n",
        "    # Print the total sum with a message\n",
        "    print(f\"Total expenses: Rs {total}\")\n",
        "\n",
        "# Call the wallet function with specific keyword arguments\n",
        "wallet(gasbil=1000, electricity=2000, utility=1500)\n"
      ],
      "metadata": {
        "colab": {
          "base_uri": "https://localhost:8080/"
        },
        "id": "Ktaq872Wjoxz",
        "outputId": "9ec99f5f-4291-492e-df6f-270776593613"
      },
      "execution_count": 58,
      "outputs": [
        {
          "output_type": "stream",
          "name": "stdout",
          "text": [
            "Total expenses: Rs 4500\n"
          ]
        }
      ]
    }
  ]
}