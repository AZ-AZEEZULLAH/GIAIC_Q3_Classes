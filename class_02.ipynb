{
  "nbformat": 4,
  "nbformat_minor": 0,
  "metadata": {
    "colab": {
      "provenance": [],
      "authorship_tag": "ABX9TyMpsm2Lc8RLRTnPkF70tWF+",
      "include_colab_link": true
    },
    "kernelspec": {
      "name": "python3",
      "display_name": "Python 3"
    },
    "language_info": {
      "name": "python"
    }
  },
  "cells": [
    {
      "cell_type": "markdown",
      "metadata": {
        "id": "view-in-github",
        "colab_type": "text"
      },
      "source": [
        "<a href=\"https://colab.research.google.com/github/AZ-AZEEZULLAH/GIAIC_Q3_Classes/blob/main/class_02.ipynb\" target=\"_parent\"><img src=\"https://colab.research.google.com/assets/colab-badge.svg\" alt=\"Open In Colab\"/></a>"
      ]
    },
    {
      "cell_type": "markdown",
      "source": [
        "# 🚀list🚀"
      ],
      "metadata": {
        "id": "Han5siq2DbSj"
      }
    },
    {
      "cell_type": "code",
      "source": [
        "# A list in Python can hold elements of different data types\n",
        "fruits = [\"Apple\", \"Banana\", 3455, True, False, None]\n",
        "fruits  # Output: ['Apple', 'Banana', 3455, True, False, None]\n",
        "#print(fruits)\n",
        "\n",
        "# Let's break down the elements of the list:\n",
        "# \"Apple\"     → A string, likely representing a fruit\n",
        "# \"Banana\"    → Another string, also a fruit\n",
        "# 3455        → An integer, not a fruit — could be an ID, quantity, or just an example\n",
        "# True        → A boolean value\n",
        "# False       → Another boolean value\n",
        "# None        → A special constant in Python representing the absence of a value or null\n",
        "\n",
        "# So this list mixes strings, an integer, booleans, and a NoneType.\n",
        "# While it's okay in Python to mix types in a list, it's usually best practice to keep lists consistent in type (e.g., all strings) unless there's a reason.\n"
      ],
      "metadata": {
        "colab": {
          "base_uri": "https://localhost:8080/"
        },
        "id": "WJwBQM0dEK43",
        "outputId": "fe1d4bd7-7dc1-45d2-c2b9-fca17232a1b3"
      },
      "execution_count": null,
      "outputs": [
        {
          "output_type": "execute_result",
          "data": {
            "text/plain": [
              "['Apple', 'Banana', 3455, True, False, None]"
            ]
          },
          "metadata": {},
          "execution_count": 15
        }
      ]
    },
    {
      "cell_type": "code",
      "source": [
        "print(type(fruits))  # This  output: <class 'list'>\n",
        "type(fruits) # This output <list>"
      ],
      "metadata": {
        "colab": {
          "base_uri": "https://localhost:8080/"
        },
        "id": "5kI2ip9KE_jE",
        "outputId": "e32eb82d-ace2-4030-f956-0189f8171dce"
      },
      "execution_count": null,
      "outputs": [
        {
          "output_type": "stream",
          "name": "stdout",
          "text": [
            "<class 'list'>\n"
          ]
        },
        {
          "output_type": "execute_result",
          "data": {
            "text/plain": [
              "list"
            ]
          },
          "metadata": {},
          "execution_count": 18
        }
      ]
    },
    {
      "cell_type": "code",
      "source": [
        "fruits[0] # output \"Apple\"\n",
        "\n",
        "#print(fruits[0]) # same output"
      ],
      "metadata": {
        "colab": {
          "base_uri": "https://localhost:8080/",
          "height": 36
        },
        "id": "Yy5hDfJhF0OH",
        "outputId": "ed9cd333-0d70-4d07-aafa-b30d011383fc"
      },
      "execution_count": null,
      "outputs": [
        {
          "output_type": "execute_result",
          "data": {
            "text/plain": [
              "'Apple'"
            ],
            "application/vnd.google.colaboratory.intrinsic+json": {
              "type": "string"
            }
          },
          "metadata": {},
          "execution_count": 20
        }
      ]
    },
    {
      "cell_type": "code",
      "source": [
        "print(fruits[5]) # output None"
      ],
      "metadata": {
        "colab": {
          "base_uri": "https://localhost:8080/"
        },
        "id": "Cy25Hu7PGPg_",
        "outputId": "4ce0ae08-3f5f-4f7e-cfc3-a5ff74d889b0"
      },
      "execution_count": null,
      "outputs": [
        {
          "output_type": "stream",
          "name": "stdout",
          "text": [
            "None\n"
          ]
        }
      ]
    },
    {
      "cell_type": "code",
      "source": [
        "print(fruits[1]) # output Banana"
      ],
      "metadata": {
        "colab": {
          "base_uri": "https://localhost:8080/"
        },
        "id": "AL-XfNVkGxuJ",
        "outputId": "e2fefaed-b30a-4262-e42b-af4e63ca4de4"
      },
      "execution_count": null,
      "outputs": [
        {
          "output_type": "stream",
          "name": "stdout",
          "text": [
            "Banana\n"
          ]
        }
      ]
    },
    {
      "cell_type": "code",
      "source": [
        "fruits.append(\"Mango\") # Add mango\n",
        "\n",
        "fruits"
      ],
      "metadata": {
        "colab": {
          "base_uri": "https://localhost:8080/"
        },
        "id": "llT2_Yh4G7sY",
        "outputId": "b5702bcc-6f94-417c-d3d4-a5405327f0f9"
      },
      "execution_count": null,
      "outputs": [
        {
          "output_type": "execute_result",
          "data": {
            "text/plain": [
              "['Apple', 'Banana', 3455, True, False, None, 'Mango']"
            ]
          },
          "metadata": {},
          "execution_count": 25
        }
      ]
    },
    {
      "cell_type": "markdown",
      "source": [
        "# 🚀Tuples🚀"
      ],
      "metadata": {
        "id": "FB_WkDLhIvOT"
      }
    },
    {
      "cell_type": "code",
      "source": [
        "giaic_rules= (\"Assignment\", \"Attendance\")\n",
        "\n",
        "giaic_rules # out ('Assignment', 'Attendance')\n",
        "print(giaic_rules) # output same"
      ],
      "metadata": {
        "colab": {
          "base_uri": "https://localhost:8080/"
        },
        "id": "eG-Oha-0Izxq",
        "outputId": "f399615c-9194-40e1-c517-a657e53ad9b2"
      },
      "execution_count": null,
      "outputs": [
        {
          "output_type": "stream",
          "name": "stdout",
          "text": [
            "('Assignment', 'Attendance')\n"
          ]
        }
      ]
    },
    {
      "cell_type": "code",
      "source": [
        "\n",
        "print(type(giaic_rules)) # output <class 'tuple'>"
      ],
      "metadata": {
        "colab": {
          "base_uri": "https://localhost:8080/"
        },
        "id": "VW-jjmZeJtsP",
        "outputId": "5cd29a60-f6e9-41d7-eec6-9197d160e28b"
      },
      "execution_count": null,
      "outputs": [
        {
          "output_type": "stream",
          "name": "stdout",
          "text": [
            "<class 'tuple'>\n"
          ]
        }
      ]
    },
    {
      "cell_type": "code",
      "source": [
        "type(giaic_rules) # output tuple"
      ],
      "metadata": {
        "colab": {
          "base_uri": "https://localhost:8080/"
        },
        "id": "ZW4TV2e7J7_b",
        "outputId": "7180eeff-e4ea-4889-98bd-1434784e4424"
      },
      "execution_count": null,
      "outputs": [
        {
          "output_type": "execute_result",
          "data": {
            "text/plain": [
              "tuple"
            ]
          },
          "metadata": {},
          "execution_count": 35
        }
      ]
    },
    {
      "cell_type": "code",
      "source": [
        "giaic_rules[0] # output Assignment"
      ],
      "metadata": {
        "colab": {
          "base_uri": "https://localhost:8080/",
          "height": 36
        },
        "id": "zlQAHNxwKD1P",
        "outputId": "f3c40d0d-4ca0-43f8-fef7-0954a4a996d7"
      },
      "execution_count": null,
      "outputs": [
        {
          "output_type": "execute_result",
          "data": {
            "text/plain": [
              "'Assignment'"
            ],
            "application/vnd.google.colaboratory.intrinsic+json": {
              "type": "string"
            }
          },
          "metadata": {},
          "execution_count": 36
        }
      ]
    },
    {
      "cell_type": "code",
      "source": [
        "giaic_rules.append(\"Project\") # AttributeError: 'tuple' object has no attribute 'append'"
      ],
      "metadata": {
        "id": "gqyVGuoVK_gI"
      },
      "execution_count": null,
      "outputs": []
    },
    {
      "cell_type": "code",
      "source": [
        "giaic_rules.count(\"Assignment\") # output 1"
      ],
      "metadata": {
        "colab": {
          "base_uri": "https://localhost:8080/"
        },
        "id": "NY0nnWQsLGP5",
        "outputId": "ad688f71-b1cf-44ad-c33e-9a8b306fc940"
      },
      "execution_count": null,
      "outputs": [
        {
          "output_type": "execute_result",
          "data": {
            "text/plain": [
              "1"
            ]
          },
          "metadata": {},
          "execution_count": 39
        }
      ]
    },
    {
      "cell_type": "code",
      "source": [
        "giaic_rules.index(\"Attendance\") # output 1\n"
      ],
      "metadata": {
        "colab": {
          "base_uri": "https://localhost:8080/"
        },
        "id": "GDLN0edWLKz0",
        "outputId": "c3e78b5d-b9d0-45cb-f2bb-c3e78ecb514e"
      },
      "execution_count": null,
      "outputs": [
        {
          "output_type": "execute_result",
          "data": {
            "text/plain": [
              "1"
            ]
          },
          "metadata": {},
          "execution_count": 40
        }
      ]
    },
    {
      "cell_type": "code",
      "source": [
        "print(giaic_rules[0]) # output Assignment\n",
        "print(giaic_rules[1]) # output Attendance"
      ],
      "metadata": {
        "colab": {
          "base_uri": "https://localhost:8080/"
        },
        "id": "cT9qLrBTLVv1",
        "outputId": "102e5b64-7ee7-4e72-bfa2-165f506ae2cb"
      },
      "execution_count": null,
      "outputs": [
        {
          "output_type": "stream",
          "name": "stdout",
          "text": [
            "Assignment\n",
            "Attendance\n"
          ]
        }
      ]
    },
    {
      "cell_type": "code",
      "source": [
        "giaic_rules[3] # index error"
      ],
      "metadata": {
        "id": "A3bARgSFOUSU"
      },
      "execution_count": null,
      "outputs": []
    },
    {
      "cell_type": "code",
      "source": [
        "# Creating a tuple named 'id_card' with three elements:\n",
        "# 1. An integer (123) representing an ID number.\n",
        "# 2. A string ('azeez') representing the person's first name.\n",
        "# 3. A string ('azeez@gmail.com') representing the person's email.\n",
        "\n",
        "id_card = (123, \"azeez\", \"azeez@gmail.com\")\n",
        "id_card"
      ],
      "metadata": {
        "colab": {
          "base_uri": "https://localhost:8080/"
        },
        "id": "qajU2Xp9Le7B",
        "outputId": "45c423ed-7a85-429b-f336-0c53ca6d30ad"
      },
      "execution_count": null,
      "outputs": [
        {
          "output_type": "execute_result",
          "data": {
            "text/plain": [
              "(123, 'azeez', 'azeez@gmail.com')"
            ]
          },
          "metadata": {},
          "execution_count": 44
        }
      ]
    },
    {
      "cell_type": "code",
      "source": [
        "# Using an f-string to insert the second element (index 1) from the 'id_card' tuple\n",
        "print(f\"my name is {id_card[1]}\")\n",
        "\n",
        "print(f\"my roll number is {id_card[0]}\")\n",
        "print(f\"my email is {id_card[2]}\")"
      ],
      "metadata": {
        "colab": {
          "base_uri": "https://localhost:8080/"
        },
        "id": "ZnESj7iiL8P2",
        "outputId": "79b3b21c-ab2d-4997-d978-0ccdd64f3591"
      },
      "execution_count": null,
      "outputs": [
        {
          "output_type": "stream",
          "name": "stdout",
          "text": [
            "my name is azeez\n",
            "my roll number is 123\n",
            "my email is azeez@gmail.com\n"
          ]
        }
      ]
    },
    {
      "cell_type": "code",
      "source": [
        "# Using an f-string to format and print the values from the 'id_card' tuple\n",
        "# The f-string allows us to embed the values of variables or expressions directly inside a string.\n",
        "\n",
        "print(f\"my name is {id_card[1]}, my roll number is {id_card[0]}, and my email is {id_card[2]}\")\n"
      ],
      "metadata": {
        "colab": {
          "base_uri": "https://localhost:8080/"
        },
        "id": "JOmmfii2N2I8",
        "outputId": "8ba96d41-81c2-4b6d-ca69-2a4a331c24d9"
      },
      "execution_count": null,
      "outputs": [
        {
          "output_type": "stream",
          "name": "stdout",
          "text": [
            "my name is azeez, my roll number is 123, and my email is azeez@gmail.com\n"
          ]
        }
      ]
    },
    {
      "cell_type": "code",
      "source": [
        "id_card.count(\"azeez\")"
      ],
      "metadata": {
        "colab": {
          "base_uri": "https://localhost:8080/"
        },
        "id": "ctPZ1e0KOcVe",
        "outputId": "b1367864-90f5-4163-82ee-50370cedc796"
      },
      "execution_count": null,
      "outputs": [
        {
          "output_type": "execute_result",
          "data": {
            "text/plain": [
              "1"
            ]
          },
          "metadata": {},
          "execution_count": 55
        }
      ]
    },
    {
      "cell_type": "markdown",
      "source": [
        "#🚀Dictionary🚀"
      ],
      "metadata": {
        "id": "bJCmSCFSOxi4"
      }
    },
    {
      "cell_type": "code",
      "source": [
        "order_food = {\n",
        "    \"order_id\": 223344,  # Unique identifier for the order (a number assigned to the order)\n",
        "    \"items\": [\"biryani\", \"raita\"],  # A list of food items ordered (biryani and raita in this case)\n",
        "    \"status\": \"pending\"  # The current status of the order (indicating it is still pending)\n",
        "}\n",
        "print(order_food)"
      ],
      "metadata": {
        "colab": {
          "base_uri": "https://localhost:8080/"
        },
        "id": "OT_YoH_pO2W7",
        "outputId": "61bde6e0-c378-4101-eefc-f1a17580080a"
      },
      "execution_count": null,
      "outputs": [
        {
          "output_type": "stream",
          "name": "stdout",
          "text": [
            "{'order_id': 223344, 'items': ['biryani', 'raita'], 'status': 'pending'}\n"
          ]
        }
      ]
    },
    {
      "cell_type": "code",
      "source": [
        "type(order_food)"
      ],
      "metadata": {
        "colab": {
          "base_uri": "https://localhost:8080/"
        },
        "id": "DF699aJRQRab",
        "outputId": "a3939170-6a1e-4879-bec2-ce5952e43ff1"
      },
      "execution_count": null,
      "outputs": [
        {
          "output_type": "execute_result",
          "data": {
            "text/plain": [
              "dict"
            ]
          },
          "metadata": {},
          "execution_count": 62
        }
      ]
    },
    {
      "cell_type": "code",
      "source": [
        "print(type(order_food))"
      ],
      "metadata": {
        "colab": {
          "base_uri": "https://localhost:8080/"
        },
        "id": "k043bqTZQgNt",
        "outputId": "f3f29d6c-0654-478d-edb4-d6fe371bd039"
      },
      "execution_count": null,
      "outputs": [
        {
          "output_type": "stream",
          "name": "stdout",
          "text": [
            "<class 'dict'>\n"
          ]
        }
      ]
    },
    {
      "cell_type": "code",
      "source": [
        "print(type(order_food[\"order_id\"]))"
      ],
      "metadata": {
        "colab": {
          "base_uri": "https://localhost:8080/"
        },
        "id": "eN3hhH1XQqWX",
        "outputId": "5509b303-fccf-4ea8-98b0-6dbdf1f9ece9"
      },
      "execution_count": null,
      "outputs": [
        {
          "output_type": "stream",
          "name": "stdout",
          "text": [
            "<class 'int'>\n"
          ]
        }
      ]
    },
    {
      "cell_type": "code",
      "source": [
        "order_food[\"items\"][1]"
      ],
      "metadata": {
        "colab": {
          "base_uri": "https://localhost:8080/",
          "height": 36
        },
        "id": "eTHg9ozOQ6E9",
        "outputId": "9715ee3c-d045-4387-b017-8ccba0fa622d"
      },
      "execution_count": null,
      "outputs": [
        {
          "output_type": "execute_result",
          "data": {
            "text/plain": [
              "'raita'"
            ],
            "application/vnd.google.colaboratory.intrinsic+json": {
              "type": "string"
            }
          },
          "metadata": {},
          "execution_count": 66
        }
      ]
    },
    {
      "cell_type": "code",
      "source": [
        "order_food[\"status\"]= \"Delivered\"\n",
        "order_food"
      ],
      "metadata": {
        "colab": {
          "base_uri": "https://localhost:8080/"
        },
        "id": "Ougvi43VRUoO",
        "outputId": "7a862d31-63ce-4fc5-916c-94da4bdf5dd6"
      },
      "execution_count": null,
      "outputs": [
        {
          "output_type": "execute_result",
          "data": {
            "text/plain": [
              "{'order_id': 223344, 'items': ['biryani', 'raita'], 'status': 'Deliveres'}"
            ]
          },
          "metadata": {},
          "execution_count": 70
        }
      ]
    },
    {
      "cell_type": "code",
      "source": [
        "result_sheet = {\n",
        "    \"roll_number\":12344,\n",
        "    \"name\": \"Azeez\",\n",
        "    \"Subjects\": [ \"english\",\"math\",\"science\"],\n",
        "    \"total_marks\": 300,\n",
        "    \"obtained_marks\": 250,\n",
        "\n",
        "}\n",
        "\n",
        "result_sheet"
      ],
      "metadata": {
        "colab": {
          "base_uri": "https://localhost:8080/"
        },
        "id": "OdBgvarjR1l-",
        "outputId": "441754c2-e524-4995-93fa-d690862f6c4d"
      },
      "execution_count": null,
      "outputs": [
        {
          "output_type": "execute_result",
          "data": {
            "text/plain": [
              "{'roll_number': 12344,\n",
              " 'name': 'Azeez',\n",
              " 'Subjects': ['english', 'math', 'science'],\n",
              " 'total_marks': 300,\n",
              " 'obtained_marks': 250}"
            ]
          },
          "metadata": {},
          "execution_count": 72
        }
      ]
    },
    {
      "cell_type": "code",
      "source": [
        "result_sheet[\"Subjects\"][1]"
      ],
      "metadata": {
        "colab": {
          "base_uri": "https://localhost:8080/",
          "height": 36
        },
        "id": "hpXZMCysSsxe",
        "outputId": "53f15d0d-94ee-4f0a-cbfa-a9ff15d8f2dd"
      },
      "execution_count": null,
      "outputs": [
        {
          "output_type": "execute_result",
          "data": {
            "text/plain": [
              "'math'"
            ],
            "application/vnd.google.colaboratory.intrinsic+json": {
              "type": "string"
            }
          },
          "metadata": {},
          "execution_count": 74
        }
      ]
    },
    {
      "cell_type": "code",
      "source": [
        "type(result_sheet[\"Subjects\"])"
      ],
      "metadata": {
        "colab": {
          "base_uri": "https://localhost:8080/"
        },
        "id": "FeCYWOb_TGcn",
        "outputId": "a33f441f-8954-47e7-ce17-683e11ebac13"
      },
      "execution_count": null,
      "outputs": [
        {
          "output_type": "execute_result",
          "data": {
            "text/plain": [
              "list"
            ]
          },
          "metadata": {},
          "execution_count": 75
        }
      ]
    }
  ]
}