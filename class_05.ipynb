{
  "nbformat": 4,
  "nbformat_minor": 0,
  "metadata": {
    "colab": {
      "provenance": [],
      "authorship_tag": "ABX9TyOIZHdNfjZzQcHv9B6jLxMv",
      "include_colab_link": true
    },
    "kernelspec": {
      "name": "python3",
      "display_name": "Python 3"
    },
    "language_info": {
      "name": "python"
    }
  },
  "cells": [
    {
      "cell_type": "markdown",
      "metadata": {
        "id": "view-in-github",
        "colab_type": "text"
      },
      "source": [
        "<a href=\"https://colab.research.google.com/github/AZ-AZEEZULLAH/GIAIC_Q3_Classes/blob/main/class_05.ipynb\" target=\"_parent\"><img src=\"https://colab.research.google.com/assets/colab-badge.svg\" alt=\"Open In Colab\"/></a>"
      ]
    },
    {
      "cell_type": "markdown",
      "source": [
        "# Datatypes"
      ],
      "metadata": {
        "id": "9IshECbvzMGz"
      }
    },
    {
      "cell_type": "code",
      "source": [
        "\n",
        "# String Type: Stores a sequence of characters\n",
        "name: str = \" Azeezullah \"\n",
        "name.upper()\n",
        "name.lower()\n",
        "name.strip()\n",
        "\n",
        "print(name)\n",
        "\n",
        "# Integer Type: Whole number (no decimal)\n",
        "whatsapp_number: int = 923043566873\n",
        "#whatsapp_number = whatsapp_number + 1\n",
        "#whatsapp_number = whatsapp_number - 1\n",
        "#whatsapp_number = whatsapp_number * 2\n",
        "#whatsapp_number = whatsapp_number / 2\n",
        "print(whatsapp_number)\n",
        "\n",
        "# change types\n",
        "name1:str=12\n",
        "print(name1) # no error\n",
        "\n",
        "\n",
        "\n",
        "# Boolean Type: True or False value\n",
        "is_married: bool = False\n",
        "\n",
        "print(is_married)\n",
        "\n",
        "# Float Type: Decimal number\n",
        "weight: float = 54.5\n",
        "print(weight)\n",
        "\n",
        "# Complex Type: Number with real and imaginary parts\n",
        "an_other: complex = 1 + 2j\n",
        "print(an_other)\n",
        "\n",
        "# List Type: Ordered, changeable collection (with square brackets)\n",
        "favourite_dishes: list = [\"Dal_Chawal\", \"bhandi\"]\n",
        "print(favourite_dishes)\n",
        "\n",
        "# Tuple Type: Ordered, unchangeable collection (with parentheses)\n",
        "favourite_number: tuple = (1, 2, 3, 5)\n",
        "print(favourite_number)\n",
        "\n",
        "# Set Type: Unordered collection of unique items (with curly braces)\n",
        "favourite_color: set = {\"Red\", \"green\"}\n",
        "favourite_color.add(\"blue\")\n",
        "favourite_color.remove(\"green\")\n",
        "favourite_color.pop()\n",
        "\n",
        "print(favourite_color)\n",
        "\n",
        "# Dictionary Type: Key-value pairs\n",
        "self: dict = {\"name\": \"Azeezullah\", \"age\": 22}\n",
        "print(self)\n",
        "\n",
        "# Boolean again (True)\n",
        "Boolean: bool = True\n",
        "print(Boolean)\n",
        "\n",
        "# Frozenset Type: Immutable version of a set\n",
        "another: frozenset = frozenset({1, 2, 3, 4})\n",
        "\n",
        "print(another)\n",
        "another.difference({1, 2, 3, 4,5})\n",
        "print(another)\n",
        "\n",
        "# Bytes Type: Immutable sequence of bytes\n",
        "any: bytes = b\"Azeez\"\n",
        "print(any)\n",
        "\n",
        "# Bytearray Type: Mutable version of bytes\n",
        "wa: bytearray = bytearray(5)  # Creates 5 zero-bytes\n",
        "#or\n",
        "wa:bytearray=(5)\n",
        "\n",
        "print(wa)\n",
        "\n",
        "# Memoryview Type: View over binary data without copying\n",
        "memory: memoryview =(b\"abc\")\n",
        "print(memory)\n",
        "\n",
        "# NoneType: Represents the absence of a value\n",
        "none: None = None\n",
        "\n",
        "print(none)"
      ],
      "metadata": {
        "colab": {
          "base_uri": "https://localhost:8080/"
        },
        "id": "B-6WN5pW8TPb",
        "outputId": "b65afdb6-6b25-4625-9ecc-74ec294e2df3"
      },
      "execution_count": null,
      "outputs": [
        {
          "output_type": "stream",
          "name": "stdout",
          "text": [
            " Azeezullah \n",
            "923043566873\n",
            "12\n",
            "False\n",
            "54.5\n",
            "(1+2j)\n",
            "['Dal_Chawal', 'bhandi']\n",
            "(1, 2, 3, 5)\n",
            "{'blue'}\n",
            "{'name': 'Azeezullah', 'age': 22}\n",
            "True\n",
            "frozenset({1, 2, 3, 4})\n",
            "frozenset({1, 2, 3, 4})\n",
            "b'Azeez'\n",
            "5\n",
            "b'abc'\n",
            "None\n"
          ]
        }
      ]
    },
    {
      "cell_type": "code",
      "source": [
        "# Initialize the variable 'name' with the string \"sir Ali Ahmed\"\n",
        "name = \"sir Ali Ahmed\"\n",
        "\n",
        "# Concatenate the string \" Sir Ali Jawad\" to the existing value of 'name'\n",
        "# The '+' operator is used to combine strings.\n",
        "name = name + \" Sir Ali Jawad\"\n",
        "\n",
        "# Print the new value of 'name', which now contains both \"sir Ali Ahmed\" and \"Sir Ali Jawad\"\n",
        "print(name)\n",
        "\n",
        "# Replace \"Ahmed\" with \"Ali\" in the string 'name'. This operation does not modify 'name' in-place.\n",
        "# It returns a new string with the replacement. Since the result is not stored, the operation has no effect here.\n",
        "name.replace(\"Ahmed\", \"Ali\")\n",
        "\n",
        "# Strip any leading or trailing whitespace from 'name'. Similar to 'replace', this does not modify 'name' in-place.\n",
        "# Since the result is not stored, the operation has no effect here either.\n",
        "name.strip()\n",
        "# Initialize the variable 'age' with the integer value 30\n",
        "age: int = 30\n",
        "\n",
        "# Convert 'age' from an integer to a float\n",
        "age = float(age)\n",
        "\n",
        "# Print the value of 'age', which is now a float\n",
        "print(age)\n"
      ],
      "metadata": {
        "colab": {
          "base_uri": "https://localhost:8080/"
        },
        "id": "WOgczK_HFvVU",
        "outputId": "48945335-574b-43fe-8f38-52c534e2f7b1"
      },
      "execution_count": null,
      "outputs": [
        {
          "output_type": "stream",
          "name": "stdout",
          "text": [
            "sir Ali Ahmed Sir Ali Jawad\n",
            "30.0\n"
          ]
        }
      ]
    },
    {
      "cell_type": "code",
      "source": [
        "# Create a list with two color elements\n",
        "color: list = [\"red\", \"green\"]\n",
        "\n",
        "# Specify that the list contains strings, with the same values\n",
        "color: list[str] = [\"red\", \"green\"]\n",
        "\n",
        "# Create a tuple with two color elements. Tuples are immutable.\n",
        "color: tuple[str] = (\"red\", \"green\")\n",
        "\n",
        "# Create a set with two color elements. Sets are unordered and unique.\n",
        "color: set[str] = {\"red\", \"green\"}\n",
        "\n",
        "# Create a dictionary where the keys are strings and the values are integers (Note: you have a string and a float as values, which is incorrect).\n",
        "color: dict[str, int] = {\"red\": \"1\", \"green\": 2.0}\n",
        "\n",
        "# Print the last 'color' object\n",
        "print(color)\n"
      ],
      "metadata": {
        "colab": {
          "base_uri": "https://localhost:8080/"
        },
        "id": "qaSoHan7L-HG",
        "outputId": "ff48de2f-b0a6-4dd6-c5ce-be272e8a278c"
      },
      "execution_count": null,
      "outputs": [
        {
          "output_type": "stream",
          "name": "stdout",
          "text": [
            "{'red': '1', 'green': 2.0}\n"
          ]
        }
      ]
    },
    {
      "cell_type": "code",
      "source": [
        "# Create a set with some fruits. Sets automatically remove duplicates, so only unique items remain.\n",
        "fruits_name: set = {\"apple\", \"apple\", \"orange\", \"grapes\"}\n",
        "\n",
        "# Display the set after initialization\n",
        "print(fruits_name)  # Output: {'apple', 'orange', 'grapes'}\n",
        "\n",
        "# Add \"banana\" to the set\n",
        "fruits_name.add(\"banana\")\n",
        "\n",
        "# Display the set after adding \"banana\"\n",
        "print(fruits_name)  # Output: {'apple', 'orange', 'grapes', 'banana'}\n",
        "\n",
        "# Remove \"apple\" from the set (throws an error if \"apple\" is not found)\n",
        "fruits_name.remove(\"apple\")\n",
        "\n",
        "# Display the set after removing \"apple\"\n",
        "print(fruits_name)  # Output: {'orange', 'grapes', 'banana'}\n",
        "\n",
        "# Pop an arbitrary element from the set (removes and returns a random element)\n",
        "fruits_name.pop()\n",
        "\n",
        "# Display the set after popping an element (order in a set is not guaranteed)\n",
        "print(fruits_name)  # Output: {'grapes', 'banana'} (could vary depending on which element was popped)\n",
        "\n",
        "# Clear all elements from the set\n",
        "fruits_name.clear()\n",
        "\n",
        "# Display the set after clearing all elements\n",
        "print(fruits_name)  # Output: set()\n",
        "\n",
        "# Add multiple elements (\"mango\" and \"banana\") to the set using update()\n",
        "fruits_name.update({\"mango\", \"banana\"})\n",
        "\n",
        "# Display the set after updating with new elements\n",
        "print(fruits_name)  # Output: {'banana', 'mango'}\n",
        "\n",
        "# Discard \"mango\" from the set (does not throw an error if element does not exist)\n",
        "fruits_name.discard(\"mango\")\n",
        "\n",
        "# Display the set after discarding \"mango\"\n",
        "print(fruits_name)  # Output: {'banana'}\n",
        "\n",
        "# Make a copy of the set. The copy is independent of the original set.\n",
        "fruits_copy = fruits_name.copy()\n",
        "\n",
        "# Display the copied set\n",
        "print(fruits_copy)  # Output: {'banana'}\n",
        "\n",
        "# Find the difference between the current set and another set {\"banana\"}\n",
        "difference = fruits_name.difference({\"banana\"})\n",
        "\n",
        "# Display the difference result\n",
        "print(difference)  # Output: set() (because both sets are the same)\n",
        "\n",
        "# Update the current set by removing elements found in another set {\"banana\"}\n",
        "fruits_name.difference_update({\"banana\"})\n",
        "\n",
        "# Display the set after updating with the difference\n",
        "print(fruits_name)  # Output: set() (since \"banana\" was removed)\n",
        "print(fruits_copy)  # Output: {'banana'} (the original set remains unchanged\n",
        "print\n",
        "#print(fruits_name[0])\n"
      ],
      "metadata": {
        "colab": {
          "base_uri": "https://localhost:8080/"
        },
        "id": "3iuB9tGeNGBM",
        "outputId": "aa41bb28-f3db-49f0-8137-f9cb7fbe703a"
      },
      "execution_count": null,
      "outputs": [
        {
          "output_type": "stream",
          "name": "stdout",
          "text": [
            "{'grapes', 'orange', 'apple'}\n",
            "{'grapes', 'orange', 'apple', 'banana'}\n",
            "{'grapes', 'orange', 'banana'}\n",
            "{'orange', 'banana'}\n",
            "set()\n",
            "{'mango', 'banana'}\n",
            "{'banana'}\n",
            "{'banana'}\n",
            "set()\n",
            "set()\n",
            "{'banana'}\n"
          ]
        },
        {
          "output_type": "execute_result",
          "data": {
            "text/plain": [
              "<function print(*args, sep=' ', end='\\n', file=None, flush=False)>"
            ]
          },
          "metadata": {},
          "execution_count": 109
        }
      ]
    },
    {
      "cell_type": "code",
      "source": [
        "#union\n",
        "# Define the first set for electronic customers\n",
        "electronic_customer: set[str] = {\"Ali Ahmed\", \"Toheed Raza\", \"Waseem\"}\n",
        "\n",
        "# Define the second set for garments customers\n",
        "garments_customer: set[str] = {\"Kareem\", \"Ali Ahmed\", \"Wasif\"}\n",
        "\n",
        "# Union of the two sets: combining both sets while removing duplicates\n",
        "merge = electronic_customer.union(garments_customer)\n",
        "\n",
        "\n",
        "# Print the result of the union operation\n",
        "print(merge)  # Output: {'Ali Ahmed', 'Toheed Raza', 'Waseem', 'Kareem', 'Wasif'}\n",
        "\n",
        "# Define other sets for different reactions\n",
        "wow_react: set[str] = {\"Usman\", \"Naseem\", \"Basit\"}\n",
        "heart_react: set[str] = {\"Abdullah\", \"Ameen\", \"Daniyal\"}\n",
        "laugh_react: set[str] = {\"Tyba\", \"Satraj\", \"Jawad\"}\n",
        "\n",
        "# Union of three sets (wow_react, heart_react, and laugh_react)\n",
        "all = wow_react.union(heart_react, laugh_react)\n",
        "\n",
        "# Print the result of the union of three sets\n",
        "print(all)  # Output: {'Usman', 'Naseem', 'Basit', 'Abdullah', 'Ameen', 'Daniyal', 'Tyba', 'Satraj', 'Jawad'}\n",
        "\n",
        "# Alternatively, using the | operator to perform the union of three sets\n",
        "all = wow_react | heart_react | laugh_react\n",
        "\n",
        "# Print the result of the union using the | operator\n",
        "print(all)  # Output: {'Usman', 'Naseem', 'Basit', 'Abdullah', 'Ameen', 'Daniyal', 'Tyba', 'Satraj', 'Jawad'}\n"
      ],
      "metadata": {
        "colab": {
          "base_uri": "https://localhost:8080/"
        },
        "id": "hG9irwinPk21",
        "outputId": "6bd8c993-e06e-4786-cf27-65c0c8ffc0c9"
      },
      "execution_count": null,
      "outputs": [
        {
          "output_type": "stream",
          "name": "stdout",
          "text": [
            "{'Kareem', 'Toheed Raza', 'Ali Ahmed', 'Wasif', 'Waseem'}\n",
            "{'Daniyal', 'Ameen', 'Basit', 'Naseem', 'Jawad', 'Satraj', 'Usman', 'Tyba', 'Abdullah'}\n",
            "{'Daniyal', 'Ameen', 'Basit', 'Naseem', 'Jawad', 'Satraj', 'Usman', 'Tyba', 'Abdullah'}\n"
          ]
        }
      ]
    },
    {
      "cell_type": "code",
      "source": [
        "# Define the set for summer fruits\n",
        "summer_fruits: set[str] = {\"apple\", \"banana\", \"mango\"}\n",
        "\n",
        "# Define the set for winter fruits\n",
        "winter_fruits: set[str] = {\"orange\", \"apple\", \"anar\"}\n",
        "\n",
        "# Get the intersection of the two sets: common fruits\n",
        "common_fruits = summer_fruits.intersection(winter_fruits)\n",
        "\n",
        "# Print the common fruits (intersection of both sets)\n",
        "print(common_fruits)  # Output: {'apple'}\n",
        "\n",
        "# Alternatively, using the & operator for the intersection\n",
        "common_fruits = summer_fruits & winter_fruits\n",
        "\n",
        "# Print the common fruits (intersection using & operator)\n",
        "print(common_fruits)  # Output: {'apple'}\n",
        "\n",
        "# Remove the elements of winter_fruits from summer_fruits\n",
        "summer_fruits -= winter_fruits\n",
        "\n",
        "# Print the updated summer_fruits after removal of common elements\n",
        "print(summer_fruits)  # Output: {'banana', 'mango'}\n"
      ],
      "metadata": {
        "colab": {
          "base_uri": "https://localhost:8080/"
        },
        "id": "RAvlB5JDTiDl",
        "outputId": "b6d5e23c-29ac-49e6-95e0-a5b2f1b3c2c7"
      },
      "execution_count": null,
      "outputs": [
        {
          "output_type": "stream",
          "name": "stdout",
          "text": [
            "{'apple'}\n",
            "{'apple'}\n",
            "{'mango', 'banana'}\n"
          ]
        }
      ]
    },
    {
      "cell_type": "code",
      "source": [
        "# Define hobbies of Azeezullah as a set of strings\n",
        "azeez_hobies: set[str] = {\"coding\", \"gaming\", \"learning\"}  # 🎮👨‍💻📚\n",
        "\n",
        "# Define hobbies of Satraj as another set of strings\n",
        "satraj_hobies: set[str] = {\"driving\", \"gaming\", \"reading newspaper\"}  # 🚗📰🎮\n",
        "\n",
        "# Union of both sets (all unique hobbies from both)\n",
        "# same = azeez_hobies.union(satraj_hobies)\n",
        "# OR using | operator (shortcut for union)\n",
        "same = azeez_hobies | satraj_hobies\n",
        "print(\"🟢 Union of hobbies (all combined, no repeats):\", same)\n",
        "\n",
        "# Intersection of both sets (common hobbies only)\n",
        "# This doesn't change azeez_hobies set\n",
        "azeez_hobies.intersection(satraj_hobies)\n",
        "print(\"🟡 Original Azeez hobbies after intersection call (unchanged):\", azeez_hobies)\n",
        "\n",
        "# Actually store the common hobbies using &\n",
        "same = azeez_hobies & satraj_hobies\n",
        "print(\"🔵 Common hobbies (intersection):\", same)\n",
        "\n",
        "# Difference: Hobbies that Azeez has but Satraj does not\n",
        "azeez_hobies.difference(satraj_hobies)\n",
        "print(\"🟣 Azeez hobbies after difference call (unchanged):\", azeez_hobies)\n",
        "\n",
        "# Actually store the difference using - operator\n",
        "same = azeez_hobies - satraj_hobies\n",
        "print(\"🟥 Hobbies only Azeez has (difference):\", same)\n",
        "\n",
        "# Remove a hobby from Azeez's set\n",
        "azeez_hobies.remove('gaming')  # 🎮 will be removed\n",
        "print(\"🚫 Azeez hobbies after removing 'gaming':\", azeez_hobies)\n",
        "\n",
        "# Add 'gaming' back to Azeez's hobbies\n",
        "azeez_hobies.add('gaming')  # 🎮 added back\n",
        "print(\"✅ Azeez hobbies after adding 'gaming' back:\", azeez_hobies)\n"
      ],
      "metadata": {
        "id": "ZGNWAx0qWVkG",
        "colab": {
          "base_uri": "https://localhost:8080/"
        },
        "outputId": "690d3e8d-9cf7-4a7c-9240-568c4ad75225"
      },
      "execution_count": null,
      "outputs": [
        {
          "output_type": "stream",
          "name": "stdout",
          "text": [
            "🟢 Union of hobbies (all combined, no repeats): {'driving', 'learning', 'reading newspaper', 'gaming', 'coding'}\n",
            "🟡 Original Azeez hobbies after intersection call (unchanged): {'coding', 'gaming', 'learning'}\n",
            "🔵 Common hobbies (intersection): {'gaming'}\n",
            "🟣 Azeez hobbies after difference call (unchanged): {'coding', 'gaming', 'learning'}\n",
            "🟥 Hobbies only Azeez has (difference): {'coding', 'learning'}\n",
            "🚫 Azeez hobbies after removing 'gaming': {'coding', 'learning'}\n",
            "✅ Azeez hobbies after adding 'gaming' back: {'coding', 'gaming', 'learning'}\n"
          ]
        }
      ]
    },
    {
      "cell_type": "code",
      "source": [
        "# 🍊 Define a set of winter fruits\n",
        "winter_fruits: set[str] = {\"orange\", \"apple\", \"annar\"}\n",
        "\n",
        "# 🍎 Check if \"apple\" is in the set\n",
        "if \"apple\" in winter_fruits:\n",
        "    print(\"🍏 Apple is in the set\")\n",
        "\n",
        "# 🥭 Check if \"mango\" is not in the set\n",
        "if \"mango\" not in winter_fruits:\n",
        "    print(\"❌ Mango is not in the set\")\n",
        "\n",
        "# ✅ Add mango to the set if it's missing\n",
        "if \"mango\" not in winter_fruits:\n",
        "    winter_fruits.add(\"mango\")  # Corrected he\n",
        "\n",
        "# 🔄 Print the updated set\n",
        "print(\"🧺 Updated winter fruits:\", winter_fruits)\n",
        "\n",
        "winter_fruits: set[str] = {\"orange\", \"apple\", \"annar\", \"mango\"}\n",
        "winter_fruits: set[str] = {\"orange\", \"apple\", \"annar\", \"mango\"}\n",
        "\n",
        "# 🥭 Check if 'mango' is in the set and remove it\n",
        "if \"mango\" in winter_fruits:\n",
        "    winter_fruits.remove(\"mango\")\n",
        "    print(\"🥭 Mango was removed!\")\n",
        "\n",
        "# 🧺 Show the updated set\n",
        "print(\"Updated winter fruits:\", winter_fruits)\n",
        "\n"
      ],
      "metadata": {
        "colab": {
          "base_uri": "https://localhost:8080/"
        },
        "id": "yAT5BsSHm6Ly",
        "outputId": "fd52640a-1589-4b87-dcb7-f2b961acd732"
      },
      "execution_count": null,
      "outputs": [
        {
          "output_type": "stream",
          "name": "stdout",
          "text": [
            "🍏 Apple is in the set\n",
            "❌ Mango is not in the set\n",
            "🧺 Updated winter fruits: {'mango', 'orange', 'apple', 'annar'}\n",
            "🥭 Mango was removed!\n",
            "Updated winter fruits: {'orange', 'apple', 'annar'}\n"
          ]
        }
      ]
    },
    {
      "cell_type": "code",
      "source": [
        "# Assume we already have a set of fruits\n",
        "winter_fruits: set[str] = {\"orange\", \"apple\", \"annar\", \"mango\"}\n",
        "\n",
        "# 🍌 Check if \"banana\" is in the set\n",
        "if \"banana\" in winter_fruits:\n",
        "    print(\"🍌 Banana is in the set\")\n",
        "else:\n",
        "    print(\"🚫 Banana is not in the set\")\n"
      ],
      "metadata": {
        "colab": {
          "base_uri": "https://localhost:8080/"
        },
        "id": "D-MjnU7zry-i",
        "outputId": "83548cde-b8db-44e3-d441-5d7cb9abbb3e"
      },
      "execution_count": null,
      "outputs": [
        {
          "output_type": "stream",
          "name": "stdout",
          "text": [
            "🚫 Banana is not in the set\n"
          ]
        }
      ]
    },
    {
      "cell_type": "code",
      "source": [
        "\n",
        "\n",
        "try:\n",
        "    a: set[str] = {\"apple\", \"banana\"}  # ✅ Create a set with type hint\n",
        "    print(\"correct\")  # ✅ Will be printed\n",
        "\n",
        "except:\n",
        "    print(\"An exception occurred\")  # ❌ Won't be printed\n",
        "\n",
        "finally:\n",
        "    print(\"The 'try except' is finished\")  # ✅ Always printed\n"
      ],
      "metadata": {
        "colab": {
          "base_uri": "https://localhost:8080/"
        },
        "id": "5Yost0Kcsxbb",
        "outputId": "901e6002-e1da-408c-fe19-797c5d8df563"
      },
      "execution_count": 2,
      "outputs": [
        {
          "output_type": "stream",
          "name": "stdout",
          "text": [
            "correct\n",
            "The 'try except' is finished\n"
          ]
        }
      ]
    },
    {
      "cell_type": "code",
      "source": [
        "import requests\n",
        "\n",
        "try:\n",
        "    # 🌐 Send a GET request to Google's homepage\n",
        "    req = requests.get(\"https://www.google.com\")\n",
        "\n",
        "    # 🧪 Try printing JSON content (Google's homepage is not JSON, so this will raise an error)\n",
        "    print(req.json())  # This will likely raise an exception\n",
        "\n",
        "    print(\"✅ Request was successful\")\n",
        "\n",
        "except Exception as e:\n",
        "    print(\"❌ An exception occurred:\", e)\n",
        "\n",
        "finally:\n",
        "    print(\"✅ The 'try except' is finished\")\n"
      ],
      "metadata": {
        "colab": {
          "base_uri": "https://localhost:8080/"
        },
        "id": "gah7VJoct9CL",
        "outputId": "d160fa12-e383-4ceb-db05-c553285a4b1b"
      },
      "execution_count": 4,
      "outputs": [
        {
          "output_type": "stream",
          "name": "stdout",
          "text": [
            "❌ An exception occurred: Expecting value: line 1 column 1 (char 0)\n",
            "✅ The 'try except' is finished\n"
          ]
        }
      ]
    },
    {
      "cell_type": "code",
      "source": [
        "#loop\n",
        "#For loop (when you know the ending point)\n",
        "#The  following example is add to cart feature\n",
        "#Think yourself as a superstore customer.\n",
        "# After shopping you will be charged the amount of the product you have purchased.\n",
        "#Price of each product is addedto the total\n",
        "\n",
        "# A list called cart is created with dictionary items.\n",
        "# Each dictionary represents a product with its name and price.\n",
        "\n",
        "cart: list = [\n",
        "    {\"product\": \"shoes\", \"price\": 1150},\n",
        "    {\"product\": \"shirt\", \"price\": 1000},\n",
        "    {\"product\": \"hat\", \"price\": 300},\n",
        "    {\"product\": \"socks\", \"price\": 200},\n",
        "]\n",
        "\n",
        "# Initialize a variable called total to store the total bill amount\n",
        "total = 0\n",
        "\n",
        "# Use a for loop to go through each item in the cart\n",
        "for item in cart:\n",
        "    # Add the price of the current item to the total\n",
        "    total = total + item[\"price\"]\n",
        "\n",
        "    # Print the running total after adding each product\n",
        "    print(total)\n"
      ],
      "metadata": {
        "colab": {
          "base_uri": "https://localhost:8080/"
        },
        "id": "lVs6ZAUN8TVZ",
        "outputId": "331f3ba7-0dd2-47a2-98ea-aab5056530db"
      },
      "execution_count": 18,
      "outputs": [
        {
          "output_type": "stream",
          "name": "stdout",
          "text": [
            "1150\n",
            "2150\n",
            "2450\n",
            "2650\n"
          ]
        }
      ]
    },
    {
      "cell_type": "code",
      "source": [
        "total=0\n",
        "for item in cart:\n",
        "  print(item)\n",
        "  total+=item[\"price\"]\n",
        "  print(total)"
      ],
      "metadata": {
        "colab": {
          "base_uri": "https://localhost:8080/"
        },
        "id": "CvnU9KKDBweg",
        "outputId": "de716f25-2e3a-4af6-b257-2e3c9f6b879c"
      },
      "execution_count": 16,
      "outputs": [
        {
          "output_type": "stream",
          "name": "stdout",
          "text": [
            "{'product': 'shoes', 'price': 1150}\n",
            "1150\n",
            "{'product': 'shirt', 'price': 1000}\n",
            "2150\n",
            "{'product': 'hat', 'price': 300}\n",
            "2450\n",
            "{'product': 'socks', 'price': 200}\n",
            "2650\n"
          ]
        }
      ]
    },
    {
      "cell_type": "code",
      "source": [
        "for item in cart:\n",
        "    # Add the price of the current product to the running total\n",
        "    total += item[\"price\"]\n",
        "    #total=+item[\"price\"]\n",
        "    #total *= item[\"price\"]\n",
        "    #total /= item[\"price\"]\n",
        "    #total -= item[\"price\"]\n",
        "   # total=total+item[\"price\"]\n",
        "\n",
        "    # Print the name of the product just added and the current total amount\n",
        "    print(f\"Added {item['product']}, current total: Rs {total}\")"
      ],
      "metadata": {
        "colab": {
          "base_uri": "https://localhost:8080/"
        },
        "id": "2Hj8awSRBWD0",
        "outputId": "94f8bdbe-4cdc-45b1-c953-b7280342405f"
      },
      "execution_count": 84,
      "outputs": [
        {
          "output_type": "stream",
          "name": "stdout",
          "text": [
            "Added shoes, current total: Rs 1350\n",
            "Added shirt, current total: Rs 2350\n",
            "Added hat, current total: Rs 2650\n",
            "Added socks, current total: Rs 2850\n"
          ]
        }
      ]
    },
    {
      "cell_type": "code",
      "source": [
        "# A list of numbers\n",
        "numbers = [1, 2, 3, 4, 5, 6, 7, 8, 9, 10]\n",
        "\n",
        "# Initialize a variable to hold the sum of even numbers\n",
        "even_sum = 0\n",
        "\n",
        "# Loop through each number in the list\n",
        "for number in numbers:\n",
        "    # Check if the number is even\n",
        "    if number % 2 == 0:\n",
        "        # Add the even number to the sum\n",
        "        even_sum += number\n",
        "\n",
        "# Print the sum of all even numbers\n",
        "print(f\"The sum of even numbers is: {even_sum}\")# output 0+2=2, 2+4=6, 6+6=12,12+8=20,20+10=30\n"
      ],
      "metadata": {
        "colab": {
          "base_uri": "https://localhost:8080/"
        },
        "id": "D3RVecAFJp_a",
        "outputId": "8d6962bc-e6e8-465e-b688-11be98c6353f"
      },
      "execution_count": 94,
      "outputs": [
        {
          "output_type": "stream",
          "name": "stdout",
          "text": [
            "The sum of even numbers is: 30\n"
          ]
        }
      ]
    },
    {
      "cell_type": "code",
      "source": [
        "# A list of numbers\n",
        "numbers = [1, 2, 3, 4, 5, 6, 7, 8, 9, 10]\n",
        "\n",
        "# Initialize a variable to hold the sum of odd numbers\n",
        "odd_sum = 0\n",
        "\n",
        "# Loop through each number in the list\n",
        "for number in numbers:\n",
        "    # Check if the number is odd\n",
        "    if number % 2 != 0:\n",
        "        # Add the odd number to the sum\n",
        "        odd_sum += number\n",
        "\n",
        "# Print the sum of all odd numbers\n",
        "print(f\"The sum of odd numbers is: {odd_sum}\")#0+1=1, 1+3=4, 4+5=9 , 9+7=16 , 16+9=25\n"
      ],
      "metadata": {
        "colab": {
          "base_uri": "https://localhost:8080/"
        },
        "id": "6uG0aeQyJsbZ",
        "outputId": "34af951b-f61b-45ee-9fcb-76c37bacdf26"
      },
      "execution_count": 106,
      "outputs": [
        {
          "output_type": "stream",
          "name": "stdout",
          "text": [
            "The sum of odd numbers is: 25\n"
          ]
        }
      ]
    },
    {
      "cell_type": "code",
      "source": [
        "# while loop (executed till the certain condition is True )\n",
        "# Think of yourself as men who is doing the activity of scanning the price of the product\n",
        "#The duty of the men is to scan the price of all the products in the basket\n",
        "# When the items in the basket ends the condition becomes false and the progarm ends\n",
        "\n",
        "# Initialize a variable to store the running total of prices\n",
        "total = 0\n",
        "\n",
        "# Start an infinite loop to keep asking for input until the user types 'done'\n",
        "while True:\n",
        "    # Ask the user to enter a price, or type 'done' to exit\n",
        "    price_input: str = input(\"Please enter price (or type 'done' to finish): \")\n",
        "\n",
        "    # Check if the user typed 'done' (in any letter case, like Done, DONE, etc.)\n",
        "    if price_input.lower() == \"done\":\n",
        "        break  # Exit the loop when 'done' is entered\n",
        "\n",
        "    # Check if the input contains only digits (i.e., it's a valid whole number like 100, 50, etc.)\n",
        "    if price_input.isdigit():\n",
        "        # Convert the input string to an integer and add it to the total\n",
        "        total += int(price_input)\n",
        "\n",
        "        # Print the current total after adding the new price\n",
        "        print(\"Current total:\", total)\n",
        "\n",
        "    # (Optional) If input is neither \"done\" nor a digit, you can handle it like this:\n",
        "    else:\n",
        "        print(\"Invalid input. Please enter a number or type 'done'.\")\n",
        "\n"
      ],
      "metadata": {
        "colab": {
          "base_uri": "https://localhost:8080/"
        },
        "id": "1SL8Do7BP6BL",
        "outputId": "c9824900-f54c-455d-9d3b-ff29310748a0"
      },
      "execution_count": 110,
      "outputs": [
        {
          "name": "stdout",
          "output_type": "stream",
          "text": [
            "Please enter price (or type 'done' to finish): 15\n",
            "Current total: 15\n",
            "Please enter price (or type 'done' to finish): 30\n",
            "Current total: 45\n",
            "Please enter price (or type 'done' to finish): done\n"
          ]
        }
      ]
    },
    {
      "cell_type": "code",
      "source": [
        "fruits = [\"apple\", \"banana\", \"cherry\"]\n",
        "#index = -1 # output cherry ,apple, banana , cherry\n",
        "index = + 0\n",
        "\n",
        "fruits.append(\"mango\")\n",
        "fruits.remove(\"mango\")\n",
        "#fruits.reverse()\n",
        "\n",
        "while index < len(fruits):\n",
        "\n",
        "\n",
        "    print(\"Fruit:\", fruits[index])\n",
        "    index += 1\n"
      ],
      "metadata": {
        "colab": {
          "base_uri": "https://localhost:8080/"
        },
        "id": "XfjlzYdYVPqo",
        "outputId": "4cc13c1e-665b-4ea0-cfb5-df5dbf16ae34"
      },
      "execution_count": 141,
      "outputs": [
        {
          "output_type": "stream",
          "name": "stdout",
          "text": [
            "Fruit: apple\n",
            "Fruit: banana\n",
            "Fruit: cherry\n"
          ]
        }
      ]
    },
    {
      "cell_type": "code",
      "source": [
        "user_input = \"\"\n",
        "\n",
        "while user_input != \"exit\":\n",
        "    user_input = input(\"Type something (or 'exit' to quit): \")\n",
        "    print(\"You typed:\", user_input)\n"
      ],
      "metadata": {
        "colab": {
          "base_uri": "https://localhost:8080/"
        },
        "id": "6u-C3VAUXgMl",
        "outputId": "73aa08ce-d8b8-47b8-d4ba-ecfd0eff35a2"
      },
      "execution_count": 142,
      "outputs": [
        {
          "output_type": "stream",
          "name": "stdout",
          "text": [
            "Type something (or 'exit' to quit): 12\n",
            "You typed: 12\n",
            "Type something (or 'exit' to quit): 12\n",
            "You typed: 12\n",
            "Type something (or 'exit' to quit): exit\n",
            "You typed: exit\n"
          ]
        }
      ]
    },
    {
      "cell_type": "code",
      "source": [
        "print(\"©Azeezullah\")"
      ],
      "metadata": {
        "colab": {
          "base_uri": "https://localhost:8080/"
        },
        "id": "bby9moPhYbd2",
        "outputId": "c37e873f-a10b-4269-acdf-eb17f8189d98"
      },
      "execution_count": 146,
      "outputs": [
        {
          "output_type": "stream",
          "name": "stdout",
          "text": [
            "©Azeezullah\n"
          ]
        }
      ]
    }
  ]
}