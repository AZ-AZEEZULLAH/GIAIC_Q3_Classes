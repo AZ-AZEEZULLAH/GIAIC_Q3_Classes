{
  "nbformat": 4,
  "nbformat_minor": 0,
  "metadata": {
    "colab": {
      "provenance": [],
      "authorship_tag": "ABX9TyOyC/XvEPZaiOm6g621tKlk",
      "include_colab_link": true
    },
    "kernelspec": {
      "name": "python3",
      "display_name": "Python 3"
    },
    "language_info": {
      "name": "python"
    }
  },
  "cells": [
    {
      "cell_type": "markdown",
      "metadata": {
        "id": "view-in-github",
        "colab_type": "text"
      },
      "source": [
        "<a href=\"https://colab.research.google.com/github/AZ-AZEEZULLAH/GIAIC_Q3_Classes/blob/main/class_o7.ipynb\" target=\"_parent\"><img src=\"https://colab.research.google.com/assets/colab-badge.svg\" alt=\"Open In Colab\"/></a>"
      ]
    },
    {
      "cell_type": "code",
      "source": [
        "# Define a class called Library\n",
        "class Library():\n",
        "  def __init__(self, name, location):\n",
        "    self.books = []\n",
        "    self.lib_name = name\n",
        "    self.lib_location = location\n",
        "\n",
        "  def add_book(self, new_book_name):\n",
        "    self.books.append(new_book_name)\n",
        "    return self.books\n",
        "\n",
        "  def remove_book(self, remove_book):\n",
        "    if remove_book in self.books:\n",
        "      self.books.remove(remove_book)\n",
        "    else:\n",
        "      print(f\"'{remove_book}' not found in the library.\")\n",
        "\n",
        "  def get_book(self):\n",
        "    return self.books\n",
        "\n",
        "# Define a class called Book\n",
        "class Book():\n",
        "  def __init__(self, name, author, availability):\n",
        "    self.Book_name = name\n",
        "    self.Author_name = author\n",
        "    self.Availability = availability\n",
        "\n",
        "  def borrow(self):\n",
        "    if self.Availability:\n",
        "      self.Availability = False\n",
        "      print(f\"You borrowed '{self.Book_name}'\")\n",
        "    else:\n",
        "      print(f\"'{self.Book_name}' is not available\")\n",
        "\n",
        "  def return_book(self):\n",
        "    self.Availability = True\n",
        "    print(f\"'{self.Book_name}' has been returned\")\n",
        "\n",
        "# Create Library instance\n",
        "Mylib = Library(\"The Library\", \"Karachi\")\n",
        "print(\"Library Name:\", Mylib.lib_name)\n",
        "print(\"Location:\", Mylib.lib_location)\n",
        "print(\"Books in library:\", Mylib.get_book())\n",
        "\n",
        "# Create Book instances\n",
        "book1 = Book(\"Poetry\", \"Allama Iqbal\", True)\n",
        "book2 = Book(\"Comedy\", \"Umer Sharif\", True)\n",
        "book3 = Book(\"Tragedy\", \"Ahmed\", True)\n",
        "\n",
        "# Add books to library\n",
        "Mylib.add_book(book1.Book_name)\n",
        "Mylib.add_book(book2.Book_name)\n",
        "Mylib.add_book(book3.Book_name)\n",
        "\n",
        "# Show updated book list\n",
        "print(\"Books after adding:\", Mylib.get_book())\n",
        "\n",
        "# Borrow a book\n",
        "book1.borrow()\n",
        "print(\"Is 'Poetry' available now?\", book1.Availability)\n",
        "\n",
        "# Remove a book\n",
        "Mylib.remove_book(\"Tragedy\")\n",
        "print(\"Books after removing 'Tragedy':\", Mylib.get_book())\n"
      ],
      "metadata": {
        "colab": {
          "base_uri": "https://localhost:8080/"
        },
        "id": "gjjl9XvKsiK-",
        "outputId": "83298fa4-80a0-43fc-befb-c206eca3e7c1"
      },
      "execution_count": 39,
      "outputs": [
        {
          "output_type": "stream",
          "name": "stdout",
          "text": [
            "Library Name: The Library\n",
            "Location: Karachi\n",
            "Books in library: []\n",
            "Books after adding: ['Poetry', 'Comedy', 'Tragedy']\n",
            "You borrowed 'Poetry'\n",
            "Is 'Poetry' available now? False\n",
            "Books after removing 'Tragedy': ['Poetry', 'Comedy']\n"
          ]
        }
      ]
    }
  ]
}