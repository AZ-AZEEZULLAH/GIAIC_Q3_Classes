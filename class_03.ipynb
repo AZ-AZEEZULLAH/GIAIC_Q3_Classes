{
  "nbformat": 4,
  "nbformat_minor": 0,
  "metadata": {
    "colab": {
      "provenance": [],
      "authorship_tag": "ABX9TyOWM+SxuT/JxqvACTCu8D5Z",
      "include_colab_link": true
    },
    "kernelspec": {
      "name": "python3",
      "display_name": "Python 3"
    },
    "language_info": {
      "name": "python"
    }
  },
  "cells": [
    {
      "cell_type": "markdown",
      "metadata": {
        "id": "view-in-github",
        "colab_type": "text"
      },
      "source": [
        "<a href=\"https://colab.research.google.com/github/AZ-AZEEZULLAH/GIAIC_Q3_Classes/blob/main/class_3.ipynb\" target=\"_parent\"><img src=\"https://colab.research.google.com/assets/colab-badge.svg\" alt=\"Open In Colab\"/></a>"
      ]
    },
    {
      "cell_type": "markdown",
      "source": [
        "# List\n",
        "\n"
      ],
      "metadata": {
        "id": "YW0yK3lkF9p1"
      }
    },
    {
      "cell_type": "code",
      "source": [
        "animals = [\"cat\", \"dog\", \"fish\", \"hamster\",1234,True]\n",
        "#animals[0] # output 'cat'\n",
        "print(animals[0]) # output cat\n",
        "print(animals[-1])\n",
        "type(animals)"
      ],
      "metadata": {
        "colab": {
          "base_uri": "https://localhost:8080/"
        },
        "id": "ydp_3htOFJTn",
        "outputId": "223b52db-8d8a-4b19-d9b1-b65e1891f165"
      },
      "execution_count": 5,
      "outputs": [
        {
          "output_type": "stream",
          "name": "stdout",
          "text": [
            "cat\n",
            "True\n"
          ]
        },
        {
          "output_type": "execute_result",
          "data": {
            "text/plain": [
              "list"
            ]
          },
          "metadata": {},
          "execution_count": 5
        }
      ]
    },
    {
      "cell_type": "markdown",
      "source": [
        "# Dictionary  List Tuple\n",
        "\n"
      ],
      "metadata": {
        "id": "f258KaZVHM0c"
      }
    },
    {
      "cell_type": "code",
      "source": [
        "# Creating a dictionary named 'students'\n",
        "students = {\n",
        "    \"name\": \"Azeez\",             # A key-value pair: \"name\" is the key, \"Azeez\" is the value\n",
        "    \"id_number\": 2233,           # \"id_number\" key with integer value 2233\n",
        "    \"emai\": \"azeez@gmail.com\",   # \"emai\" (probably a typo of \"email\") key with an email string\n",
        "    \"more\": [\"azeez\", 3444],     # \"more\" key with a list that includes a string and a number\n",
        "    \"caste\": (\"A\", \"B\"),         # \"caste\" key with a tuple of two values: \"A\" and \"B\"\n",
        "    \"date\": {                    # \"date\" key with another dictionary as its value (nested dictionary)\n",
        "        \"day\": \"monday\",         # Inside the nested dictionary: \"day\" key with value \"monday\"\n",
        "        \"month\": \"jan\",          # \"month\" key with value \"jan\"\n",
        "        \"year\": 2025             # \"year\" key with value 2025\n",
        "    }\n",
        "}\n",
        "\n",
        "# Printing the entire 'students' dictionary\n",
        "print(students)\n",
        "\n",
        "# Accessing and printing the value of the \"name\" key from the dictionary\n",
        "print(students[\"name\"])\n",
        "\n",
        "type(students)"
      ],
      "metadata": {
        "colab": {
          "base_uri": "https://localhost:8080/"
        },
        "id": "Zj4nDUvWGTl9",
        "outputId": "59f7b493-01b4-4dc1-db0d-3fd56250bb8c"
      },
      "execution_count": 23,
      "outputs": [
        {
          "output_type": "stream",
          "name": "stdout",
          "text": [
            "{'name': 'Azeez', 'id_number': 2233, 'emai': 'azeez@gmail.com', 'more': ['azeez', 3444], 'caste': ('A', 'B'), 'date': {'day': 'monday', 'month': 'jan', 'year': 2025}}\n",
            "Azeez\n"
          ]
        },
        {
          "output_type": "execute_result",
          "data": {
            "text/plain": [
              "dict"
            ]
          },
          "metadata": {},
          "execution_count": 23
        }
      ]
    },
    {
      "cell_type": "code",
      "source": [
        "type(students[\"id_number\"])"
      ],
      "metadata": {
        "colab": {
          "base_uri": "https://localhost:8080/"
        },
        "id": "rGo_frNCKisg",
        "outputId": "fb2d22f4-64e3-4fbc-8a83-80d2dd846977"
      },
      "execution_count": 24,
      "outputs": [
        {
          "output_type": "execute_result",
          "data": {
            "text/plain": [
              "int"
            ]
          },
          "metadata": {},
          "execution_count": 24
        }
      ]
    },
    {
      "cell_type": "code",
      "source": [
        "students[\"more\"].append(\"Ali\")         # Append \"Ali\" to the list\n",
        "print(students[\"more\"])                # Now print the updated list\n"
      ],
      "metadata": {
        "colab": {
          "base_uri": "https://localhost:8080/"
        },
        "id": "nKm7TkqXKrU2",
        "outputId": "a258d3c2-74f2-4928-b5e5-07922367670f"
      },
      "execution_count": 26,
      "outputs": [
        {
          "output_type": "stream",
          "name": "stdout",
          "text": [
            "['azeez', 3444, 'Ali']\n"
          ]
        }
      ]
    },
    {
      "cell_type": "code",
      "source": [
        "students[\"caste\"]\n",
        "#type(students[\"caste\"])# tuple"
      ],
      "metadata": {
        "colab": {
          "base_uri": "https://localhost:8080/"
        },
        "id": "EcDYrE3OIRd9",
        "outputId": "ac13f600-3495-47ac-a754-913835842e5c"
      },
      "execution_count": 13,
      "outputs": [
        {
          "output_type": "execute_result",
          "data": {
            "text/plain": [
              "('A', 'B')"
            ]
          },
          "metadata": {},
          "execution_count": 13
        }
      ]
    },
    {
      "cell_type": "code",
      "source": [
        "students[\"more\"]\n",
        "#type(students[\"more\"])# list\n",
        "#print(students[\"more\"][0])# output azeez"
      ],
      "metadata": {
        "colab": {
          "base_uri": "https://localhost:8080/"
        },
        "id": "l2oHZHhwJNXT",
        "outputId": "789975b8-fbc1-481a-b54b-abc6e152f79b"
      },
      "execution_count": 22,
      "outputs": [
        {
          "output_type": "execute_result",
          "data": {
            "text/plain": [
              "['azeez', 3444]"
            ]
          },
          "metadata": {},
          "execution_count": 22
        }
      ]
    },
    {
      "cell_type": "code",
      "source": [
        "students[\"date\"]\n",
        "#print(students[\"date\"][\"day\"])# output monday\n",
        "#type(students[\"date\"])# distionary"
      ],
      "metadata": {
        "colab": {
          "base_uri": "https://localhost:8080/"
        },
        "id": "wc8dHBTDIjj6",
        "outputId": "62e9cc05-d210-4473-ea70-cda7e18e7e2a"
      },
      "execution_count": 19,
      "outputs": [
        {
          "output_type": "execute_result",
          "data": {
            "text/plain": [
              "{'day': 'monday', 'month': 'jan', 'year': 2025}"
            ]
          },
          "metadata": {},
          "execution_count": 19
        }
      ]
    },
    {
      "cell_type": "markdown",
      "source": [
        "  # Conditions\n",
        "  "
      ],
      "metadata": {
        "id": "8cqnUB26lYs1"
      }
    },
    {
      "cell_type": "code",
      "source": [
        "#user input\n",
        "\n",
        "weather = input(\"What is the weather ?\")\n",
        "print(weater)\n",
        "\n",
        "\n",
        "\n"
      ],
      "metadata": {
        "colab": {
          "base_uri": "https://localhost:8080/"
        },
        "id": "Cg7loaxqp7Rg",
        "outputId": "535874bc-5c49-4f5d-dd81-200a122e23c6"
      },
      "execution_count": 32,
      "outputs": [
        {
          "output_type": "stream",
          "name": "stdout",
          "text": [
            "What is the weather ?hot\n",
            "hot\n"
          ]
        }
      ]
    },
    {
      "cell_type": "code",
      "source": [
        "weather = input(\"What is the weather? \").lower()\n",
        "print(weather)\n",
        "\n",
        "if weather == \"sunny\":\n",
        "    print(\"Stay Hydrated\")\n",
        "\n",
        "elif weather == \"rainy\":\n",
        "    print(\"Bring Umbrella\")\n",
        "\n",
        "if weather == \"cold\":\n",
        "        print(\"Wear Jacket\")\n",
        "\n",
        "elif weather == \"hot\":\n",
        "    print(\"Wear Shorts\")\n",
        "\n",
        "\n",
        "else:\n",
        "    print(\"Normal Weather\")\n",
        "\n",
        "\n",
        "\n"
      ],
      "metadata": {
        "colab": {
          "base_uri": "https://localhost:8080/"
        },
        "id": "WQVUJLk-P4PV",
        "outputId": "9a68419d-e5c9-4bc3-ab68-fa90056d93f1"
      },
      "execution_count": 60,
      "outputs": [
        {
          "output_type": "stream",
          "name": "stdout",
          "text": [
            "What is the weather? cold\n",
            "cold\n",
            "Wear Jacket\n"
          ]
        }
      ]
    },
    {
      "cell_type": "code",
      "source": [
        "# Simple Calculator\n",
        "\n",
        "num1 = int(input(\"Enter first Number\"))\n",
        "num2 = int(input(\"Enter second Number\"))\n",
        "opperator=input(\"Enter Addition / Division/Multiply/Subraction/Addition\").lower()\n",
        "if opperator == \"division\":\n",
        "  division =num1/num2\n",
        "  print(division)\n",
        "\n",
        "elif opperator == \"multiply\":\n",
        "  multiply = num1*num2\n",
        "  print(multiply)\n",
        "\n",
        "elif opperator == \"subraction\":\n",
        "  subraction = num1-num2\n",
        "  print(subraction)\n",
        "\n",
        "elif opperator == \"addition\":\n",
        "  addition = num1+num2\n",
        "  print(addition)\n",
        "\n",
        "else:\n",
        "  print(\"Invalid Operator\")"
      ],
      "metadata": {
        "colab": {
          "base_uri": "https://localhost:8080/"
        },
        "id": "XFA3mX4eu60O",
        "outputId": "7dab67ac-a198-4e4d-9257-3a173da89324"
      },
      "execution_count": 68,
      "outputs": [
        {
          "output_type": "stream",
          "name": "stdout",
          "text": [
            "Enter first Number12\n",
            "Enter second Number3\n",
            "Enter Addition / Division/Multiply/Subraction/Additiondivision\n",
            "4.0\n"
          ]
        }
      ]
    },
    {
      "cell_type": "code",
      "source": [
        "# List of food items\n",
        "food_items = [\"biryani\", \"samoosa\", \"pakori\", \"golghapa\"]\n",
        "\n",
        "# Check if \"biryani\" is present in the food_items list\n",
        "if \"biryani\" in food_items:\n",
        "    print(\"Too much tasty\")  # This will run if \"biryani\" is found\n",
        "\n",
        "# This block runs only if the above condition is False\n",
        "# Check if \"pakori\" is in the list\n",
        "elif \"pakori\" in food_items:\n",
        "    print(\"Too much tasty\")  # This will run if \"pakori\" is found and \"biryani\" wasn't\n",
        "\n",
        "# If neither of the above are True, check if \"tea\" is NOT in the list\n",
        "elif \"tea\" not in food_items:\n",
        "    print(\"Tea is not in food items\")  # Runs if \"tea\" is missing and above conditions failed\n",
        "\n",
        "# If none of the above conditions match, run this\n",
        "else:\n",
        "    print(\"No Food Items\")\n"
      ],
      "metadata": {
        "colab": {
          "base_uri": "https://localhost:8080/"
        },
        "id": "FCu7twTfybFs",
        "outputId": "ea9d0b3b-db50-404f-fe06-8a92d41e921f"
      },
      "execution_count": 90,
      "outputs": [
        {
          "output_type": "stream",
          "name": "stdout",
          "text": [
            "Too much tasty\n"
          ]
        }
      ]
    },
    {
      "cell_type": "code",
      "source": [
        "if ('Biryani' in food_items) and (\"pakori\" in food_items) and (\"chocolate \" in food_items):\n",
        "  print(\"cholestrol \")\n",
        "\n",
        "else:\n",
        "  print(\"no cholestrol \")"
      ],
      "metadata": {
        "colab": {
          "base_uri": "https://localhost:8080/"
        },
        "id": "UR72BalS17Nh",
        "outputId": "607b48ae-b561-4b17-bdce-a0624ed9d5df"
      },
      "execution_count": 89,
      "outputs": [
        {
          "output_type": "stream",
          "name": "stdout",
          "text": [
            "no cholestrol \n"
          ]
        }
      ]
    },
    {
      "cell_type": "code",
      "source": [
        "if ('samoosa' in food_items) or (\"pakori\" in food_items) or (\"chocolate \" in food_items):\n",
        "  print(\"cholestrol \")\n",
        "\n",
        "else:\n",
        "  print(\"no diet\")"
      ],
      "metadata": {
        "colab": {
          "base_uri": "https://localhost:8080/"
        },
        "id": "RyEbIAK4cQOy",
        "outputId": "3a6da11d-4a9a-4c97-fc6d-6ecb9d0a1eba"
      },
      "execution_count": 88,
      "outputs": [
        {
          "output_type": "stream",
          "name": "stdout",
          "text": [
            "cholestrol \n"
          ]
        }
      ]
    },
    {
      "cell_type": "markdown",
      "source": [
        "# Functions\n"
      ],
      "metadata": {
        "id": "DaKqj__Y3rjt"
      }
    },
    {
      "cell_type": "code",
      "source": [
        "def greet():\n",
        "  print(\"Hello from functions\")\n",
        "greet()"
      ],
      "metadata": {
        "colab": {
          "base_uri": "https://localhost:8080/"
        },
        "id": "36jPKceH3vPM",
        "outputId": "5dbcc29f-84de-4291-89e8-b0f33e866fc1"
      },
      "execution_count": null,
      "outputs": [
        {
          "output_type": "stream",
          "name": "stdout",
          "text": [
            "Hello from functions\n"
          ]
        }
      ]
    },
    {
      "cell_type": "code",
      "source": [
        "\n",
        "# parameter\n",
        "def greet1(name,email):# agr email ko option rkhe to ase hoga (email=None)\n",
        "  print(f\"Hello {name} and my email is {email}\")\n",
        "\n",
        "greet1(\"Ali\",\"ali@gmail.com\")\n",
        "#greet1(\"Ahmed\")\n",
        "#greet1(\"Ali\")"
      ],
      "metadata": {
        "colab": {
          "base_uri": "https://localhost:8080/"
        },
        "id": "EpdP4Odd4ljj",
        "outputId": "5a797b4a-33e8-46b5-8f9a-a8e146453952"
      },
      "execution_count": null,
      "outputs": [
        {
          "output_type": "stream",
          "name": "stdout",
          "text": [
            "Hello Ali and my email is ali@gmail.com\n"
          ]
        }
      ]
    },
    {
      "cell_type": "code",
      "source": [
        "# Default parameters\n",
        "def marriage(choice= 'My Mother Choice'):\n",
        "  print(choice)\n",
        "\n",
        "#marriage()\n",
        "marriage(\"My choice\")\n",
        "marriage()"
      ],
      "metadata": {
        "colab": {
          "base_uri": "https://localhost:8080/"
        },
        "id": "Wk41El_L6sLI",
        "outputId": "12bcd790-2734-48a1-fab9-2250da0d66f8"
      },
      "execution_count": null,
      "outputs": [
        {
          "output_type": "stream",
          "name": "stdout",
          "text": [
            "My choice\n",
            "My Mother Choice\n"
          ]
        }
      ]
    },
    {
      "cell_type": "code",
      "source": [
        "def animals ():\n",
        "  print(\"cat\",\"dog\")\n",
        "\n",
        "animals()"
      ],
      "metadata": {
        "colab": {
          "base_uri": "https://localhost:8080/"
        },
        "id": "HfMqjlCscvbn",
        "outputId": "61555961-e406-4fee-f117-aed668a4824e"
      },
      "execution_count": 91,
      "outputs": [
        {
          "output_type": "stream",
          "name": "stdout",
          "text": [
            "cat dog\n"
          ]
        }
      ]
    },
    {
      "cell_type": "code",
      "source": [
        "def animals(names= \"wolf\",color=\"black\"):\n",
        "  return  names , color\n",
        "\n",
        "\n",
        "animals()"
      ],
      "metadata": {
        "colab": {
          "base_uri": "https://localhost:8080/"
        },
        "id": "A_w-NIiGdDer",
        "outputId": "7baed0f8-1bc1-4977-a35d-70763cc99c35"
      },
      "execution_count": 100,
      "outputs": [
        {
          "output_type": "execute_result",
          "data": {
            "text/plain": [
              "('wolf', 'black')"
            ]
          },
          "metadata": {},
          "execution_count": 100
        }
      ]
    },
    {
      "cell_type": "code",
      "source": [
        "animals"
      ],
      "metadata": {
        "colab": {
          "base_uri": "https://localhost:8080/",
          "height": 104
        },
        "id": "SNwD3yghei52",
        "outputId": "6783f183-efcc-4ae8-b5d9-a7e1961003ea"
      },
      "execution_count": 101,
      "outputs": [
        {
          "output_type": "execute_result",
          "data": {
            "text/plain": [
              "<function __main__.animals(names='wolf', color='black')>"
            ],
            "text/html": [
              "<div style=\"max-width:800px; border: 1px solid var(--colab-border-color);\"><style>\n",
              "      pre.function-repr-contents {\n",
              "        overflow-x: auto;\n",
              "        padding: 8px 12px;\n",
              "        max-height: 500px;\n",
              "      }\n",
              "\n",
              "      pre.function-repr-contents.function-repr-contents-collapsed {\n",
              "        cursor: pointer;\n",
              "        max-height: 100px;\n",
              "      }\n",
              "    </style>\n",
              "    <pre style=\"white-space: initial; background:\n",
              "         var(--colab-secondary-surface-color); padding: 8px 12px;\n",
              "         border-bottom: 1px solid var(--colab-border-color);\"><b>animals</b><br/>def animals(names=&#x27;wolf&#x27;, color=&#x27;black&#x27;)</pre><pre class=\"function-repr-contents function-repr-contents-collapsed\" style=\"\"><a class=\"filepath\" style=\"display:none\" href=\"#\">/content/&lt;ipython-input-100-197099ae99cb&gt;</a>&lt;no docstring&gt;</pre></div>"
            ]
          },
          "metadata": {},
          "execution_count": 101
        }
      ]
    },
    {
      "cell_type": "code",
      "source": [
        "result = animals()\n",
        "print(result)"
      ],
      "metadata": {
        "colab": {
          "base_uri": "https://localhost:8080/"
        },
        "id": "pyqJcFWLeOma",
        "outputId": "c9422557-2d97-43f8-e28f-ef8cb7cc0a1d"
      },
      "execution_count": 98,
      "outputs": [
        {
          "output_type": "stream",
          "name": "stdout",
          "text": [
            "('wolf', 'black')\n"
          ]
        }
      ]
    },
    {
      "cell_type": "code",
      "source": [
        "def person():\n",
        "    name = [\"Azeez\"]\n",
        "    caste = {\n",
        "        \"number\": \"03330\",\n",
        "        \"caste\": \"Noohpoto\"\n",
        "    }\n",
        "    at = \"live in Khairpur\"\n",
        "\n",
        "    print(\"Name:\", name[0])\n",
        "    print(\"Caste:\", caste[\"caste\"])\n",
        "    print(\"Number:\", caste[\"number\"])\n",
        "    print(\"Location:\", at)\n",
        "\n",
        "person()\n"
      ],
      "metadata": {
        "colab": {
          "base_uri": "https://localhost:8080/"
        },
        "id": "hSrf2RPreqnd",
        "outputId": "9c5bfc4b-08e4-47a4-9d9c-fc3c57162757"
      },
      "execution_count": 106,
      "outputs": [
        {
          "output_type": "stream",
          "name": "stdout",
          "text": [
            "Name: Azeez\n",
            "Caste: Noohpoto\n",
            "Number: 03330\n",
            "Location: live in Khairpur\n"
          ]
        }
      ]
    }
  ]
}
